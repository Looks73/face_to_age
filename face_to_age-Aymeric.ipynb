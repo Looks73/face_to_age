{
 "cells": [
  {
   "cell_type": "markdown",
   "metadata": {
    "id": "WCk2YEqBhdP2"
   },
   "source": [
    "## 1. CNN challenge - Face to Age"
   ]
  },
  {
   "cell_type": "markdown",
   "metadata": {
    "id": "JBXc4442fJZV"
   },
   "source": [
    "### Objectives\n",
    "-  Visualize images\n",
    "-  Preprocess images for Neural Networks\n",
    "-  Fit a custom CNN for a regression task\n",
    "-  Fine-tune an analyse model performance"
   ]
  },
  {
   "cell_type": "markdown",
   "metadata": {
    "id": "gv76LFXjqzau"
   },
   "source": [
    "### 1.1 Visualize images"
   ]
  },
  {
   "cell_type": "markdown",
   "metadata": {},
   "source": [
    "**👉 Load the dataset (200 Mo)**"
   ]
  },
  {
   "cell_type": "code",
   "execution_count": 2,
   "metadata": {
    "ExecuteTime": {
     "end_time": "2023-03-22T15:42:39.656190Z",
     "start_time": "2023-03-22T15:42:39.456275Z"
    }
   },
   "outputs": [],
   "source": [
    "import pandas as pd"
   ]
  },
  {
   "cell_type": "code",
   "execution_count": 3,
   "metadata": {
    "ExecuteTime": {
     "end_time": "2023-03-22T15:42:42.079727Z",
     "start_time": "2023-03-22T15:42:40.688260Z"
    },
    "executionInfo": {
     "elapsed": 10102,
     "status": "ok",
     "timestamp": 1615229794824,
     "user": {
      "displayName": "Bruno Lajoie",
      "photoUrl": "https://lh3.googleusercontent.com/a-/AOh14Gg0dl6gThG8gOPbCvHbgt62zQnsi8cgbQ7C5HkD_Cg=s64",
      "userId": "15793030209206844069"
     },
     "user_tz": -60
    },
    "id": "2tZUrTCepyPs"
   },
   "outputs": [
    {
     "data": {
      "text/html": [
       "<div>\n",
       "<style scoped>\n",
       "    .dataframe tbody tr th:only-of-type {\n",
       "        vertical-align: middle;\n",
       "    }\n",
       "\n",
       "    .dataframe tbody tr th {\n",
       "        vertical-align: top;\n",
       "    }\n",
       "\n",
       "    .dataframe thead th {\n",
       "        text-align: right;\n",
       "    }\n",
       "</style>\n",
       "<table border=\"1\" class=\"dataframe\">\n",
       "  <thead>\n",
       "    <tr style=\"text-align: right;\">\n",
       "      <th></th>\n",
       "      <th>age</th>\n",
       "      <th>pixels</th>\n",
       "    </tr>\n",
       "  </thead>\n",
       "  <tbody>\n",
       "    <tr>\n",
       "      <th>0</th>\n",
       "      <td>45</td>\n",
       "      <td>200 168 96 107 123 132 132 135 135 134 134 137...</td>\n",
       "    </tr>\n",
       "    <tr>\n",
       "      <th>1</th>\n",
       "      <td>1</td>\n",
       "      <td>223 226 231 234 236 238 238 240 240 240 240 23...</td>\n",
       "    </tr>\n",
       "    <tr>\n",
       "      <th>2</th>\n",
       "      <td>35</td>\n",
       "      <td>23 29 24 29 47 71 110 141 166 169 169 174 179 ...</td>\n",
       "    </tr>\n",
       "    <tr>\n",
       "      <th>3</th>\n",
       "      <td>28</td>\n",
       "      <td>9 6 11 12 30 65 82 37 47 16 27 26 32 74 141 16...</td>\n",
       "    </tr>\n",
       "    <tr>\n",
       "      <th>4</th>\n",
       "      <td>24</td>\n",
       "      <td>67 66 63 59 61 62 60 66 83 103 139 173 192 194...</td>\n",
       "    </tr>\n",
       "    <tr>\n",
       "      <th>...</th>\n",
       "      <td>...</td>\n",
       "      <td>...</td>\n",
       "    </tr>\n",
       "    <tr>\n",
       "      <th>23700</th>\n",
       "      <td>35</td>\n",
       "      <td>48 47 52 66 78 89 96 104 117 127 139 142 149 1...</td>\n",
       "    </tr>\n",
       "    <tr>\n",
       "      <th>23701</th>\n",
       "      <td>55</td>\n",
       "      <td>101 107 110 114 118 120 127 129 132 137 139 14...</td>\n",
       "    </tr>\n",
       "    <tr>\n",
       "      <th>23702</th>\n",
       "      <td>28</td>\n",
       "      <td>161 134 113 114 98 93 92 90 82 58 23 45 85 105...</td>\n",
       "    </tr>\n",
       "    <tr>\n",
       "      <th>23703</th>\n",
       "      <td>3</td>\n",
       "      <td>65 82 84 129 141 116 43 46 54 71 58 60 64 66 7...</td>\n",
       "    </tr>\n",
       "    <tr>\n",
       "      <th>23704</th>\n",
       "      <td>2</td>\n",
       "      <td>31 40 50 54 66 79 84 100 118 136 150 159 165 1...</td>\n",
       "    </tr>\n",
       "  </tbody>\n",
       "</table>\n",
       "<p>23705 rows × 2 columns</p>\n",
       "</div>"
      ],
      "text/plain": [
       "       age                                             pixels\n",
       "0       45  200 168 96 107 123 132 132 135 135 134 134 137...\n",
       "1        1  223 226 231 234 236 238 238 240 240 240 240 23...\n",
       "2       35  23 29 24 29 47 71 110 141 166 169 169 174 179 ...\n",
       "3       28  9 6 11 12 30 65 82 37 47 16 27 26 32 74 141 16...\n",
       "4       24  67 66 63 59 61 62 60 66 83 103 139 173 192 194...\n",
       "...    ...                                                ...\n",
       "23700   35  48 47 52 66 78 89 96 104 117 127 139 142 149 1...\n",
       "23701   55  101 107 110 114 118 120 127 129 132 137 139 14...\n",
       "23702   28  161 134 113 114 98 93 92 90 82 58 23 45 85 105...\n",
       "23703    3  65 82 84 129 141 116 43 46 54 71 58 60 64 66 7...\n",
       "23704    2  31 40 50 54 66 79 84 100 118 136 150 159 165 1...\n",
       "\n",
       "[23705 rows x 2 columns]"
      ]
     },
     "execution_count": 3,
     "metadata": {},
     "output_type": "execute_result"
    }
   ],
   "source": [
    "data = pd.read_csv('data/images/images.csv')\n",
    "data = data.sample(frac=1, random_state=0).reset_index(drop=True)\n",
    "data"
   ]
  },
  {
   "cell_type": "markdown",
   "metadata": {},
   "source": [
    "Each row represent the image of a face in black and white\n",
    "- `age` is the age in year\n",
    "- `pixels` contains the 2304 (= 48 * 48) flatten values of each pixel in the image, in a black scale from 0 to 255, stored as string"
   ]
  },
  {
   "cell_type": "markdown",
   "metadata": {},
   "source": [
    "**❓ Plot the histogram of age in your dataset.**"
   ]
  },
  {
   "cell_type": "code",
   "execution_count": 4,
   "metadata": {
    "ExecuteTime": {
     "end_time": "2023-03-22T15:42:51.581988Z",
     "start_time": "2023-03-22T15:42:51.185860Z"
    }
   },
   "outputs": [],
   "source": [
    "import matplotlib.pyplot as plt"
   ]
  },
  {
   "cell_type": "code",
   "execution_count": 5,
   "metadata": {
    "ExecuteTime": {
     "end_time": "2023-03-22T15:42:52.629382Z",
     "start_time": "2023-03-22T15:42:52.518033Z"
    },
    "tags": [
     "challengify"
    ]
   },
   "outputs": [
    {
     "data": {
      "image/png": "[encoded data removed]",
      "text/plain": [
       "<Figure size 640x480 with 1 Axes>"
      ]
     },
     "metadata": {},
     "output_type": "display_data"
    }
   ],
   "source": [
    "data.age.hist()\n",
    "plt.show()"
   ]
  },
  {
   "cell_type": "markdown",
   "metadata": {
    "id": "JQ1ew-IAwUNL"
   },
   "source": [
    "**❓ Visually display one image of your choice.**"
   ]
  },
  {
   "cell_type": "code",
   "execution_count": 6,
   "metadata": {
    "ExecuteTime": {
     "end_time": "2023-03-22T15:43:03.128657Z",
     "start_time": "2023-03-22T15:43:03.103370Z"
    }
   },
   "outputs": [
    {
     "name": "stdout",
     "output_type": "stream",
     "text": [
      "<class 'pandas.core.frame.DataFrame'>\n",
      "RangeIndex: 23705 entries, 0 to 23704\n",
      "Data columns (total 2 columns):\n",
      " #   Column  Non-Null Count  Dtype \n",
      "---  ------  --------------  ----- \n",
      " 0   age     23705 non-null  int64 \n",
      " 1   pixels  23705 non-null  object\n",
      "dtypes: int64(1), object(1)\n",
      "memory usage: 370.5+ KB\n"
     ]
    }
   ],
   "source": [
    "data.info()"
   ]
  },
  {
   "cell_type": "code",
   "execution_count": 7,
   "metadata": {
    "ExecuteTime": {
     "end_time": "2023-03-22T15:43:12.507638Z",
     "start_time": "2023-03-22T15:43:12.503001Z"
    }
   },
   "outputs": [],
   "source": [
    "import numpy as np"
   ]
  },
  {
   "cell_type": "code",
   "execution_count": 8,
   "metadata": {
    "ExecuteTime": {
     "end_time": "2023-03-22T15:43:13.569386Z",
     "start_time": "2023-03-22T15:43:13.565433Z"
    }
   },
   "outputs": [],
   "source": [
    "def get_img(string):\n",
    "    image = np.fromstring(string, sep = \" \").reshape(48,48,1)\n",
    "    return image"
   ]
  },
  {
   "cell_type": "code",
   "execution_count": 9,
   "metadata": {
    "ExecuteTime": {
     "end_time": "2023-03-22T15:43:21.846015Z",
     "start_time": "2023-03-22T15:43:21.841265Z"
    }
   },
   "outputs": [],
   "source": [
    "image = get_img(data.pixels[0])"
   ]
  },
  {
   "cell_type": "code",
   "execution_count": 10,
   "metadata": {
    "ExecuteTime": {
     "end_time": "2023-03-22T15:43:25.051461Z",
     "start_time": "2023-03-22T15:43:24.960473Z"
    }
   },
   "outputs": [
    {
     "data": {
      "image/png": "[encoded data removed]",
      "text/plain": [
       "<Figure size 640x480 with 1 Axes>"
      ]
     },
     "metadata": {},
     "output_type": "display_data"
    }
   ],
   "source": [
    "plt.imshow(image, cmap=\"gray\")\n",
    "plt.show()"
   ]
  },
  {
   "cell_type": "markdown",
   "metadata": {},
   "source": [
    "**❓ What is the physical characteristic of the image at _index_ `60`?**\n",
    "\n",
    "- Store in the 3 boolean variables `smile`/`glasses`/`hat` the values `True` if the person smiles/wears glasses/has a hat, `False` else."
   ]
  },
  {
   "cell_type": "code",
   "execution_count": 11,
   "metadata": {
    "ExecuteTime": {
     "end_time": "2023-03-22T15:43:39.119702Z",
     "start_time": "2023-03-22T15:43:39.108190Z"
    }
   },
   "outputs": [
    {
     "data": {
      "text/html": [
       "<div>\n",
       "<style scoped>\n",
       "    .dataframe tbody tr th:only-of-type {\n",
       "        vertical-align: middle;\n",
       "    }\n",
       "\n",
       "    .dataframe tbody tr th {\n",
       "        vertical-align: top;\n",
       "    }\n",
       "\n",
       "    .dataframe thead th {\n",
       "        text-align: right;\n",
       "    }\n",
       "</style>\n",
       "<table border=\"1\" class=\"dataframe\">\n",
       "  <thead>\n",
       "    <tr style=\"text-align: right;\">\n",
       "      <th></th>\n",
       "      <th>age</th>\n",
       "      <th>pixels</th>\n",
       "    </tr>\n",
       "  </thead>\n",
       "  <tbody>\n",
       "    <tr>\n",
       "      <th>55</th>\n",
       "      <td>4</td>\n",
       "      <td>231 177 153 139 133 139 137 135 134 132 136 13...</td>\n",
       "    </tr>\n",
       "    <tr>\n",
       "      <th>56</th>\n",
       "      <td>58</td>\n",
       "      <td>208 233 229 220 205 193 193 194 192 190 185 18...</td>\n",
       "    </tr>\n",
       "    <tr>\n",
       "      <th>57</th>\n",
       "      <td>40</td>\n",
       "      <td>61 79 109 133 131 132 141 147 150 161 155 152 ...</td>\n",
       "    </tr>\n",
       "    <tr>\n",
       "      <th>58</th>\n",
       "      <td>25</td>\n",
       "      <td>163 163 162 163 160 166 117 23 44 29 91 185 21...</td>\n",
       "    </tr>\n",
       "    <tr>\n",
       "      <th>59</th>\n",
       "      <td>52</td>\n",
       "      <td>193 197 195 182 132 102 149 164 171 165 164 16...</td>\n",
       "    </tr>\n",
       "    <tr>\n",
       "      <th>60</th>\n",
       "      <td>27</td>\n",
       "      <td>24 26 25 36 63 93 98 96 100 101 106 114 122 13...</td>\n",
       "    </tr>\n",
       "    <tr>\n",
       "      <th>61</th>\n",
       "      <td>53</td>\n",
       "      <td>68 99 122 163 166 164 158 154 169 163 135 127 ...</td>\n",
       "    </tr>\n",
       "    <tr>\n",
       "      <th>62</th>\n",
       "      <td>58</td>\n",
       "      <td>79 81 86 89 82 68 60 53 53 58 70 75 76 76 83 9...</td>\n",
       "    </tr>\n",
       "    <tr>\n",
       "      <th>63</th>\n",
       "      <td>20</td>\n",
       "      <td>90 101 134 157 161 162 157 153 154 152 154 154...</td>\n",
       "    </tr>\n",
       "    <tr>\n",
       "      <th>64</th>\n",
       "      <td>32</td>\n",
       "      <td>40 52 61 62 52 67 75 99 213 236 236 237 237 24...</td>\n",
       "    </tr>\n",
       "  </tbody>\n",
       "</table>\n",
       "</div>"
      ],
      "text/plain": [
       "    age                                             pixels\n",
       "55    4  231 177 153 139 133 139 137 135 134 132 136 13...\n",
       "56   58  208 233 229 220 205 193 193 194 192 190 185 18...\n",
       "57   40  61 79 109 133 131 132 141 147 150 161 155 152 ...\n",
       "58   25  163 163 162 163 160 166 117 23 44 29 91 185 21...\n",
       "59   52  193 197 195 182 132 102 149 164 171 165 164 16...\n",
       "60   27  24 26 25 36 63 93 98 96 100 101 106 114 122 13...\n",
       "61   53  68 99 122 163 166 164 158 154 169 163 135 127 ...\n",
       "62   58  79 81 86 89 82 68 60 53 53 58 70 75 76 76 83 9...\n",
       "63   20  90 101 134 157 161 162 157 153 154 152 154 154...\n",
       "64   32  40 52 61 62 52 67 75 99 213 236 236 237 237 24..."
      ]
     },
     "execution_count": 11,
     "metadata": {},
     "output_type": "execute_result"
    }
   ],
   "source": [
    "data.iloc[55:65]"
   ]
  },
  {
   "cell_type": "code",
   "execution_count": 12,
   "metadata": {
    "ExecuteTime": {
     "end_time": "2023-03-22T15:43:43.798238Z",
     "start_time": "2023-03-22T15:43:43.710660Z"
    },
    "tags": [
     "challengify"
    ]
   },
   "outputs": [
    {
     "data": {
      "image/png": "[encoded data removed]",
      "text/plain": [
       "<Figure size 640x480 with 1 Axes>"
      ]
     },
     "metadata": {},
     "output_type": "display_data"
    }
   ],
   "source": [
    "image60 = get_img(data.pixels[60])\n",
    "plt.imshow(image60, cmap=\"gray\")\n",
    "plt.show()"
   ]
  },
  {
   "cell_type": "code",
   "execution_count": 13,
   "metadata": {
    "ExecuteTime": {
     "end_time": "2023-03-22T15:43:46.857673Z",
     "start_time": "2023-03-22T15:43:46.852942Z"
    }
   },
   "outputs": [],
   "source": [
    "# Store your result in the variable below\n",
    "\n",
    "smile = True\n",
    "glasses = False\n",
    "hat = False"
   ]
  },
  {
   "cell_type": "markdown",
   "metadata": {
    "id": "AjeMU0GTwFSe"
   },
   "source": [
    "### 1.2 Processing"
   ]
  },
  {
   "cell_type": "markdown",
   "metadata": {},
   "source": [
    "**❓ Your goal is to train a convolutional neural network model to predict the _age_ of a person based solely on a picture of his/her face.**\n",
    "- Create your **feature matrix** `X` as `ndarray` scaled between 0 and 1\n",
    "- Create your **target vector** `y` as `ndarray`\n",
    "- Create your holdout sets: 4 variables (`X_train`, `y_train`) and (`X_test`, `y_test`) keeping the **first** `70%` as the train set\n",
    "- `X` and `y` shapes should fit a CNN (`model.fit(X,y)`)\n",
    "\n",
    "😌 Don't worry, you will be given the solution in the next question in case you don't make it"
   ]
  },
  {
   "cell_type": "code",
   "execution_count": 14,
   "metadata": {
    "ExecuteTime": {
     "end_time": "2023-03-22T15:44:04.576757Z",
     "start_time": "2023-03-22T15:44:04.572187Z"
    },
    "executionInfo": {
     "elapsed": 7742,
     "status": "ok",
     "timestamp": 1615229809890,
     "user": {
      "displayName": "Bruno Lajoie",
      "photoUrl": "https://lh3.googleusercontent.com/a-/AOh14Gg0dl6gThG8gOPbCvHbgt62zQnsi8cgbQ7C5HkD_Cg=s64",
      "userId": "15793030209206844069"
     },
     "user_tz": -60
    },
    "id": "2MUSTFTFrp0V",
    "tags": [
     "challengify"
    ]
   },
   "outputs": [
    {
     "data": {
      "text/plain": [
       "(23705,)"
      ]
     },
     "execution_count": 14,
     "metadata": {},
     "output_type": "execute_result"
    }
   ],
   "source": [
    "y = data.age\n",
    "y.shape"
   ]
  },
  {
   "cell_type": "code",
   "execution_count": 15,
   "metadata": {
    "ExecuteTime": {
     "end_time": "2023-03-22T15:44:27.031211Z",
     "start_time": "2023-03-22T15:44:22.531188Z"
    }
   },
   "outputs": [
    {
     "data": {
      "text/plain": [
       "numpy.ndarray"
      ]
     },
     "execution_count": 15,
     "metadata": {},
     "output_type": "execute_result"
    }
   ],
   "source": [
    "X = np.stack(data.pixels.map(get_img).values)/255\n",
    "type(X)"
   ]
  },
  {
   "cell_type": "code",
   "execution_count": 16,
   "metadata": {
    "ExecuteTime": {
     "end_time": "2023-03-22T15:44:46.819868Z",
     "start_time": "2023-03-22T15:44:46.814384Z"
    }
   },
   "outputs": [
    {
     "data": {
      "text/plain": [
       "(23705, 48, 48, 1)"
      ]
     },
     "execution_count": 16,
     "metadata": {},
     "output_type": "execute_result"
    }
   ],
   "source": [
    "X.shape"
   ]
  },
  {
   "cell_type": "code",
   "execution_count": 17,
   "metadata": {
    "ExecuteTime": {
     "end_time": "2023-03-22T15:44:54.666211Z",
     "start_time": "2023-03-22T15:44:54.233710Z"
    }
   },
   "outputs": [],
   "source": [
    "from sklearn.model_selection import train_test_split"
   ]
  },
  {
   "cell_type": "code",
   "execution_count": 18,
   "metadata": {
    "ExecuteTime": {
     "end_time": "2023-03-22T15:44:57.138414Z",
     "start_time": "2023-03-22T15:44:57.060052Z"
    }
   },
   "outputs": [],
   "source": [
    "X_train, X_test, y_train, y_test = train_test_split(X, y, test_size=0.3, random_state=16516)"
   ]
  },
  {
   "cell_type": "code",
   "execution_count": 19,
   "metadata": {
    "ExecuteTime": {
     "end_time": "2023-03-22T15:45:00.956743Z",
     "start_time": "2023-03-22T15:45:00.949563Z"
    }
   },
   "outputs": [
    {
     "data": {
      "text/plain": [
       "(16593, 48, 48, 1)"
      ]
     },
     "execution_count": 19,
     "metadata": {},
     "output_type": "execute_result"
    }
   ],
   "source": [
    "X_train.shape"
   ]
  },
  {
   "cell_type": "code",
   "execution_count": 20,
   "metadata": {
    "ExecuteTime": {
     "end_time": "2023-03-22T15:45:03.072679Z",
     "start_time": "2023-03-22T15:45:03.066000Z"
    }
   },
   "outputs": [
    {
     "data": {
      "text/plain": [
       "(16593,)"
      ]
     },
     "execution_count": 20,
     "metadata": {},
     "output_type": "execute_result"
    }
   ],
   "source": [
    "y_train.shape"
   ]
  },
  {
   "cell_type": "markdown",
   "metadata": {
    "id": "3bSHDYC8OlrL"
   },
   "source": [
    "### 1.3 Modeling the age of a face"
   ]
  },
  {
   "cell_type": "markdown",
   "metadata": {},
   "source": [
    "👉 **Only if you haven't managed to create your training sets above**, you can start back from the solution by running the cell below \n",
    "- ⚠️ This will download ~500Mo of `.pickle` files on your current working directory\n",
    "- Then it will load them into 4 ndarrays in memory, and it should delete initial .pickles from your disk"
   ]
  },
  {
   "cell_type": "code",
   "execution_count": 22,
   "metadata": {
    "ExecuteTime": {
     "end_time": "2021-09-29T08:52:42.996434Z",
     "start_time": "2021-09-29T08:52:42.912077Z"
    },
    "deletable": false,
    "editable": false,
    "run_control": {
     "frozen": true
    }
   },
   "outputs": [],
   "source": [
    "import pickle\n",
    "\n",
    "def download_solutions():\n",
    "    file_names = [\"images_X_train.pickle\", \"images_X_test.pickle\", \"images_y_train.pickle\", \"images_y_test.pickle\"]\n",
    "    base_url = \"https://wagon-public-datasets.s3.amazonaws.com/certification/face_to_age/\"\n",
    "    pickles = dict()\n",
    "\n",
    "    for file_name in file_names:\n",
    "        url = f\"{base_url + file_name}\"\n",
    "        file_path = f\"data/images/{file_name}\"\n",
    "        command = f\"curl --output {file_path} {url}\"\n",
    "        ! eval {command}\n",
    "        with open(file_path, 'rb') as handle:\n",
    "            pickles[file_name] = pickle.load(handle)\n",
    "        command = f\"rm {file_path}\"\n",
    "        ! eval {command}\n",
    "        \n",
    "    return pickles\n",
    "\n",
    "# UNCOMMENT THIS LINE BELOW TO GET THE CORRECTION IF NEEDED\n",
    "# X_train, X_test, y_train, y_test = download_solutions().values()"
   ]
  },
  {
   "cell_type": "markdown",
   "metadata": {},
   "source": [
    "❓ **Before training a complex model, evaluate your baseline score**\n",
    "- We will use the mean absolute error in this challenge\n",
    "- Compute the baseline score on your test set in the \"naive\" case where you always predict mean age\n",
    "- Store the result under `score_baseline`"
   ]
  },
  {
   "cell_type": "code",
   "execution_count": 21,
   "metadata": {
    "ExecuteTime": {
     "end_time": "2023-03-22T15:45:33.112400Z",
     "start_time": "2023-03-22T15:45:33.106666Z"
    },
    "tags": [
     "challengify"
    ]
   },
   "outputs": [
    {
     "data": {
      "text/plain": [
       "33.25317905140722"
      ]
     },
     "execution_count": 21,
     "metadata": {},
     "output_type": "execute_result"
    }
   ],
   "source": [
    "mean_age = np.mean(y_train)\n",
    "mean_age"
   ]
  },
  {
   "cell_type": "code",
   "execution_count": 22,
   "metadata": {
    "ExecuteTime": {
     "end_time": "2023-03-22T15:45:37.827602Z",
     "start_time": "2023-03-22T15:45:37.824407Z"
    }
   },
   "outputs": [],
   "source": [
    "from sklearn.metrics import mean_absolute_error"
   ]
  },
  {
   "cell_type": "code",
   "execution_count": 40,
   "metadata": {
    "ExecuteTime": {
     "end_time": "2023-03-22T16:12:36.310677Z",
     "start_time": "2023-03-22T16:12:36.305991Z"
    }
   },
   "outputs": [
    {
     "name": "stdout",
     "output_type": "stream",
     "text": [
      "(7112,)\n",
      "14069    44\n",
      "4222     38\n",
      "16935    26\n",
      "8626     75\n",
      "1256     25\n",
      "         ..\n",
      "7641     26\n",
      "14335    54\n",
      "16695    28\n",
      "6329     25\n",
      "497      96\n",
      "Name: age, Length: 7112, dtype: int64\n"
     ]
    }
   ],
   "source": [
    "print(y_test.shape)\n",
    "print(y_test)"
   ]
  },
  {
   "cell_type": "code",
   "execution_count": 24,
   "metadata": {
    "ExecuteTime": {
     "end_time": "2023-03-22T15:45:47.153526Z",
     "start_time": "2023-03-22T15:45:47.145266Z"
    }
   },
   "outputs": [
    {
     "data": {
      "text/plain": [
       "15.291209169275103"
      ]
     },
     "execution_count": 24,
     "metadata": {},
     "output_type": "execute_result"
    }
   ],
   "source": [
    "score_baseline = mean_absolute_error(y_test, np.full((7112,), mean_age))\n",
    "score_baseline"
   ]
  },
  {
   "cell_type": "markdown",
   "metadata": {},
   "source": [
    "❓ **Build and fit a convolutional neural network**\n",
    "\n",
    "- Name it `model`\n",
    "- Store output of `.fit()` in a variable `history`\n",
    "- Do not use transfer learning\n",
    "- Make sure your model does not overfit with appropriate control techniques\n",
    "\n",
    "💡 Manage wisely your training time. You should obtain significantly better performance than the baseline in less than 5 minutes with average processor and no graphic cards. "
   ]
  },
  {
   "cell_type": "code",
   "execution_count": 25,
   "metadata": {
    "ExecuteTime": {
     "end_time": "2023-03-22T15:46:00.415252Z",
     "start_time": "2023-03-22T15:45:57.678308Z"
    }
   },
   "outputs": [],
   "source": [
    "from tensorflow.keras import layers, regularizers\n",
    "from tensorflow.keras import models\n",
    "from tensorflow.keras.callbacks import EarlyStopping"
   ]
  },
  {
   "cell_type": "code",
   "execution_count": 26,
   "metadata": {
    "ExecuteTime": {
     "end_time": "2023-03-22T15:46:07.243047Z",
     "start_time": "2023-03-22T15:46:07.235007Z"
    }
   },
   "outputs": [],
   "source": [
    "def plot_history(history, title='', axs=None, exp_name=\"\"):\n",
    "    if axs is not None:\n",
    "        ax1, ax2 = axs\n",
    "    else:\n",
    "        f, (ax1, ax2) = plt.subplots(1, 2, figsize=(12, 4))\n",
    "    \n",
    "    if len(exp_name) > 0 and exp_name[0] != '_':\n",
    "        exp_name = '_' + exp_name\n",
    "    ax1.plot(history.history['loss'], label='train' + exp_name)\n",
    "    ax1.plot(history.history['val_loss'], label='val' + exp_name)\n",
    "    #ax1.set_ylim(0., 2.2)\n",
    "    ax1.set_title('loss')\n",
    "    ax1.legend()\n",
    "\n",
    "    ax2.plot(history.history['mae'], label='train mae'  + exp_name)\n",
    "    ax2.plot(history.history['val_mae'], label='val mae'  + exp_name)\n",
    "    #ax2.set_ylim(0.25, 1.)\n",
    "    ax2.set_title('MAE')\n",
    "    ax2.legend()\n",
    "    return (ax1, ax2)"
   ]
  },
  {
   "cell_type": "code",
   "execution_count": 27,
   "metadata": {
    "ExecuteTime": {
     "end_time": "2023-03-22T15:46:19.445184Z",
     "start_time": "2023-03-22T15:46:19.324453Z"
    },
    "colab": {
     "base_uri": "https://localhost:8080/"
    },
    "executionInfo": {
     "elapsed": 427,
     "status": "ok",
     "timestamp": 1615231554099,
     "user": {
      "displayName": "Bruno Lajoie",
      "photoUrl": "https://lh3.googleusercontent.com/a-/AOh14Gg0dl6gThG8gOPbCvHbgt62zQnsi8cgbQ7C5HkD_Cg=s64",
      "userId": "15793030209206844069"
     },
     "user_tz": -60
    },
    "id": "o-vaYNoXTQPS",
    "outputId": "4fe2b570-77a5-4f38-daa7-ff1f5f1fac02",
    "scrolled": true,
    "tags": [
     "challengify"
    ]
   },
   "outputs": [],
   "source": [
    "model = models.Sequential()\n",
    " \n",
    "model.add(layers.Conv2D(16, kernel_size=8, activation='relu', padding='same', input_shape=(48,48,1)))\n",
    "model.add(layers.Conv2D(16, kernel_size=4, activation=\"relu\", padding='same'))\n",
    "model.add(layers.MaxPooling2D(2))\n",
    " \n",
    "model.add(layers.Conv2D(32, kernel_size=4, activation=\"relu\", padding='same',\\\n",
    "                        activity_regularizer=regularizers.L2(0.01)))\n",
    "model.add(layers.Conv2D(32, kernel_size=4, activation=\"relu\", padding='same',\\\n",
    "                        activity_regularizer=regularizers.L2(0.01)))\n",
    "model.add(layers.Dropout(0.2))\n",
    "model.add(layers.MaxPooling2D(2))\n",
    "\n",
    "model.add(layers.Flatten())\n",
    "model.add(layers.Dense(32, activation='relu', activity_regularizer=regularizers.l1_l2(l1=0.005, l2=0.0005)))\n",
    "model.add(layers.Dropout(0.4))\n",
    "model.add(layers.Dense(1, activation='linear'))\n",
    "\n",
    "model.compile(loss='mse',\n",
    "          optimizer='adam',\n",
    "          metrics=['mae'])"
   ]
  },
  {
   "cell_type": "code",
   "execution_count": 28,
   "metadata": {
    "ExecuteTime": {
     "end_time": "2023-03-22T15:46:26.023844Z",
     "start_time": "2023-03-22T15:46:25.997797Z"
    }
   },
   "outputs": [
    {
     "name": "stdout",
     "output_type": "stream",
     "text": [
      "Model: \"sequential\"\n",
      "_________________________________________________________________\n",
      " Layer (type)                Output Shape              Param #   \n",
      "=================================================================\n",
      " conv2d (Conv2D)             (None, 48, 48, 16)        1040      \n",
      "                                                                 \n",
      " conv2d_1 (Conv2D)           (None, 48, 48, 16)        4112      \n",
      "                                                                 \n",
      " max_pooling2d (MaxPooling2D  (None, 24, 24, 16)       0         \n",
      " )                                                               \n",
      "                                                                 \n",
      " conv2d_2 (Conv2D)           (None, 24, 24, 32)        8224      \n",
      "                                                                 \n",
      " conv2d_3 (Conv2D)           (None, 24, 24, 32)        16416     \n",
      "                                                                 \n",
      " dropout (Dropout)           (None, 24, 24, 32)        0         \n",
      "                                                                 \n",
      " max_pooling2d_1 (MaxPooling  (None, 12, 12, 32)       0         \n",
      " 2D)                                                             \n",
      "                                                                 \n",
      " flatten (Flatten)           (None, 4608)              0         \n",
      "                                                                 \n",
      " dense (Dense)               (None, 32)                147488    \n",
      "                                                                 \n",
      " dropout_1 (Dropout)         (None, 32)                0         \n",
      "                                                                 \n",
      " dense_1 (Dense)             (None, 1)                 33        \n",
      "                                                                 \n",
      "=================================================================\n",
      "Total params: 177,313\n",
      "Trainable params: 177,313\n",
      "Non-trainable params: 0\n",
      "_________________________________________________________________\n"
     ]
    }
   ],
   "source": [
    "model.summary()"
   ]
  },
  {
   "cell_type": "code",
   "execution_count": 29,
   "metadata": {
    "ExecuteTime": {
     "end_time": "2023-03-22T16:02:31.760266Z",
     "start_time": "2023-03-22T15:46:34.507739Z"
    },
    "scrolled": true
   },
   "outputs": [
    {
     "name": "stdout",
     "output_type": "stream",
     "text": [
      "Epoch 1/200\n"
     ]
    },
    {
     "name": "stderr",
     "output_type": "stream",
     "text": [
      "2023-03-22 16:46:34.619911: W tensorflow/core/platform/profile_utils/cpu_utils.cc:128] Failed to get CPU frequency: 0 Hz\n"
     ]
    },
    {
     "name": "stdout",
     "output_type": "stream",
     "text": [
      "726/726 [==============================] - 19s 26ms/step - loss: 496.1194 - mae: 17.0201 - val_loss: 410.3348 - val_mae: 14.8046\n",
      "Epoch 2/200\n",
      "726/726 [==============================] - 20s 27ms/step - loss: 413.1289 - mae: 15.5422 - val_loss: 299.2204 - val_mae: 12.5981\n",
      "Epoch 3/200\n",
      "726/726 [==============================] - 20s 28ms/step - loss: 319.1690 - mae: 13.4040 - val_loss: 276.2354 - val_mae: 12.1544\n",
      "Epoch 4/200\n",
      "726/726 [==============================] - 20s 28ms/step - loss: 285.7911 - mae: 12.6003 - val_loss: 247.5511 - val_mae: 11.4554\n",
      "Epoch 5/200\n",
      "726/726 [==============================] - 21s 28ms/step - loss: 261.2649 - mae: 12.0291 - val_loss: 279.8633 - val_mae: 12.3282\n",
      "Epoch 6/200\n",
      "726/726 [==============================] - 21s 29ms/step - loss: 248.3863 - mae: 11.7118 - val_loss: 213.3006 - val_mae: 10.5143\n",
      "Epoch 7/200\n",
      "726/726 [==============================] - 21s 30ms/step - loss: 236.9852 - mae: 11.3831 - val_loss: 214.9791 - val_mae: 10.6784\n",
      "Epoch 8/200\n",
      "726/726 [==============================] - 21s 29ms/step - loss: 220.2275 - mae: 10.9458 - val_loss: 157.4706 - val_mae: 9.1096\n",
      "Epoch 9/200\n",
      "726/726 [==============================] - 21s 29ms/step - loss: 206.6398 - mae: 10.6306 - val_loss: 221.4073 - val_mae: 10.9289\n",
      "Epoch 10/200\n",
      "726/726 [==============================] - 21s 29ms/step - loss: 204.7210 - mae: 10.5494 - val_loss: 178.6973 - val_mae: 9.7361\n",
      "Epoch 11/200\n",
      "726/726 [==============================] - 21s 28ms/step - loss: 190.8246 - mae: 10.2444 - val_loss: 163.7759 - val_mae: 9.2385\n",
      "Epoch 12/200\n",
      "726/726 [==============================] - 21s 29ms/step - loss: 181.7004 - mae: 9.9464 - val_loss: 186.1761 - val_mae: 9.8674\n",
      "Epoch 13/200\n",
      "726/726 [==============================] - 21s 29ms/step - loss: 183.2198 - mae: 9.8837 - val_loss: 176.5611 - val_mae: 9.6535\n",
      "Epoch 14/200\n",
      "726/726 [==============================] - 21s 29ms/step - loss: 176.5199 - mae: 9.8103 - val_loss: 167.1540 - val_mae: 9.2745\n",
      "Epoch 15/200\n",
      "726/726 [==============================] - 21s 29ms/step - loss: 168.6136 - mae: 9.5678 - val_loss: 150.8322 - val_mae: 8.9680\n",
      "Epoch 16/200\n",
      "726/726 [==============================] - 21s 29ms/step - loss: 169.2815 - mae: 9.5864 - val_loss: 164.8016 - val_mae: 9.5299\n",
      "Epoch 17/200\n",
      "726/726 [==============================] - 21s 29ms/step - loss: 162.8313 - mae: 9.3977 - val_loss: 138.6826 - val_mae: 8.5674\n",
      "Epoch 18/200\n",
      "726/726 [==============================] - 21s 30ms/step - loss: 156.7974 - mae: 9.1960 - val_loss: 154.5233 - val_mae: 9.0788\n",
      "Epoch 19/200\n",
      "726/726 [==============================] - 21s 29ms/step - loss: 153.0660 - mae: 9.1586 - val_loss: 158.8975 - val_mae: 9.2282\n",
      "Epoch 20/200\n",
      "726/726 [==============================] - 21s 30ms/step - loss: 153.4656 - mae: 9.1301 - val_loss: 138.4474 - val_mae: 8.5856\n",
      "Epoch 21/200\n",
      "726/726 [==============================] - 22s 30ms/step - loss: 147.1897 - mae: 9.0092 - val_loss: 137.6598 - val_mae: 8.6241\n",
      "Epoch 22/200\n",
      "726/726 [==============================] - 21s 29ms/step - loss: 145.8335 - mae: 8.9717 - val_loss: 142.6699 - val_mae: 8.7659\n",
      "Epoch 23/200\n",
      "726/726 [==============================] - 21s 29ms/step - loss: 137.7934 - mae: 8.7104 - val_loss: 130.6865 - val_mae: 8.4232\n",
      "Epoch 24/200\n",
      "726/726 [==============================] - 21s 29ms/step - loss: 140.7940 - mae: 8.7566 - val_loss: 148.2529 - val_mae: 9.0767\n",
      "Epoch 25/200\n",
      "726/726 [==============================] - 22s 30ms/step - loss: 135.7288 - mae: 8.6748 - val_loss: 144.7169 - val_mae: 8.9263\n",
      "Epoch 26/200\n",
      "726/726 [==============================] - 22s 30ms/step - loss: 131.3294 - mae: 8.5542 - val_loss: 128.4279 - val_mae: 8.3726\n",
      "Epoch 27/200\n",
      "726/726 [==============================] - 22s 30ms/step - loss: 127.7607 - mae: 8.4596 - val_loss: 144.5720 - val_mae: 8.9219\n",
      "Epoch 28/200\n",
      "726/726 [==============================] - 22s 31ms/step - loss: 127.1481 - mae: 8.4324 - val_loss: 135.2576 - val_mae: 8.6509\n",
      "Epoch 29/200\n",
      "726/726 [==============================] - 21s 29ms/step - loss: 125.4353 - mae: 8.3692 - val_loss: 134.9908 - val_mae: 8.7471\n",
      "Epoch 30/200\n",
      "726/726 [==============================] - 21s 29ms/step - loss: 125.1138 - mae: 8.4020 - val_loss: 152.7669 - val_mae: 9.2703\n",
      "Epoch 31/200\n",
      "726/726 [==============================] - 21s 30ms/step - loss: 121.3681 - mae: 8.2733 - val_loss: 145.6555 - val_mae: 9.0342\n",
      "Epoch 32/200\n",
      "726/726 [==============================] - 22s 30ms/step - loss: 118.4840 - mae: 8.2095 - val_loss: 137.7685 - val_mae: 8.8337\n",
      "Epoch 33/200\n",
      "726/726 [==============================] - 21s 30ms/step - loss: 120.4676 - mae: 8.2566 - val_loss: 138.5285 - val_mae: 8.7711\n",
      "Epoch 34/200\n",
      "726/726 [==============================] - 22s 30ms/step - loss: 117.7778 - mae: 8.1925 - val_loss: 134.7701 - val_mae: 8.6314\n",
      "Epoch 35/200\n",
      "726/726 [==============================] - 22s 30ms/step - loss: 115.7579 - mae: 8.0857 - val_loss: 127.0918 - val_mae: 8.4648\n",
      "Epoch 36/200\n",
      "726/726 [==============================] - 22s 30ms/step - loss: 112.8372 - mae: 8.0300 - val_loss: 131.1246 - val_mae: 8.6263\n",
      "Epoch 37/200\n",
      "726/726 [==============================] - 22s 30ms/step - loss: 113.5912 - mae: 8.0404 - val_loss: 140.0898 - val_mae: 8.8964\n",
      "Epoch 38/200\n",
      "726/726 [==============================] - 22s 30ms/step - loss: 113.4136 - mae: 8.0689 - val_loss: 142.2327 - val_mae: 8.9864\n",
      "Epoch 39/200\n",
      "726/726 [==============================] - 22s 30ms/step - loss: 110.6648 - mae: 7.9359 - val_loss: 151.4983 - val_mae: 9.3248\n",
      "Epoch 40/200\n",
      "726/726 [==============================] - 22s 30ms/step - loss: 112.6881 - mae: 8.0375 - val_loss: 174.8458 - val_mae: 9.9828\n",
      "Epoch 41/200\n",
      "726/726 [==============================] - 22s 30ms/step - loss: 108.3580 - mae: 7.8803 - val_loss: 161.2191 - val_mae: 9.5314\n",
      "Epoch 42/200\n",
      "726/726 [==============================] - 22s 30ms/step - loss: 105.8456 - mae: 7.7933 - val_loss: 146.7783 - val_mae: 9.1255\n",
      "Epoch 43/200\n",
      "726/726 [==============================] - 22s 30ms/step - loss: 105.5651 - mae: 7.7741 - val_loss: 145.2546 - val_mae: 9.1377\n",
      "Epoch 44/200\n",
      "726/726 [==============================] - 22s 30ms/step - loss: 106.5443 - mae: 7.8435 - val_loss: 135.0321 - val_mae: 8.8087\n",
      "Epoch 45/200\n",
      "726/726 [==============================] - 22s 30ms/step - loss: 110.3895 - mae: 7.9880 - val_loss: 145.5423 - val_mae: 9.1137\n"
     ]
    }
   ],
   "source": [
    "es = EarlyStopping(patience=10, restore_best_weights=True)\n",
    "\n",
    "history = model.fit(X_train, y_train, \n",
    "          batch_size=16, \n",
    "          epochs=200, \n",
    "          validation_split=0.3,\n",
    "          callbacks=[es])"
   ]
  },
  {
   "cell_type": "markdown",
   "metadata": {},
   "source": [
    "❓ **Plot your training and validation MAE at each epoch using the cell below**"
   ]
  },
  {
   "cell_type": "code",
   "execution_count": 30,
   "metadata": {
    "ExecuteTime": {
     "end_time": "2023-03-22T16:02:56.595709Z",
     "start_time": "2023-03-22T16:02:56.383224Z"
    }
   },
   "outputs": [
    {
     "data": {
      "image/png": "[encoded data removed]",
      "text/plain": [
       "<Figure size 1200x400 with 2 Axes>"
      ]
     },
     "metadata": {},
     "output_type": "display_data"
    }
   ],
   "source": [
    "# Plot below your train/val loss history\n",
    "fig = plot_history(history)\n",
    "\n",
    "\n",
    "# Run also this code to save figure as jpg in path below (it's your job to ensure it works)\n",
    "fig = plt.gcf()\n",
    "fig.savefig(\"history_aymeric_cnn.png\")"
   ]
  },
  {
   "cell_type": "markdown",
   "metadata": {},
   "source": [
    "❓ **Evaluate your performances on test set**\n",
    "- Store your test score as `score_test`"
   ]
  },
  {
   "cell_type": "code",
   "execution_count": 31,
   "metadata": {
    "ExecuteTime": {
     "end_time": "2023-03-22T16:03:12.709396Z",
     "start_time": "2023-03-22T16:03:10.424614Z"
    },
    "colab": {
     "base_uri": "https://localhost:8080/"
    },
    "executionInfo": {
     "elapsed": 1032,
     "status": "ok",
     "timestamp": 1615231968574,
     "user": {
      "displayName": "Bruno Lajoie",
      "photoUrl": "https://lh3.googleusercontent.com/a-/AOh14Gg0dl6gThG8gOPbCvHbgt62zQnsi8cgbQ7C5HkD_Cg=s64",
      "userId": "15793030209206844069"
     },
     "user_tz": -60
    },
    "id": "RQMpEc4ITdne",
    "outputId": "9a0a5643-6652-4a68-aa86-cd671733ca17",
    "scrolled": true,
    "tags": [
     "challengify"
    ]
   },
   "outputs": [
    {
     "name": "stdout",
     "output_type": "stream",
     "text": [
      "223/223 [==============================] - 2s 10ms/step - loss: 118.9311 - mae: 8.1774\n"
     ]
    },
    {
     "data": {
      "text/plain": [
       "8.177385330200195"
      ]
     },
     "execution_count": 31,
     "metadata": {},
     "output_type": "execute_result"
    }
   ],
   "source": [
    "score_test = model.evaluate(X_test, y_test)[1]\n",
    "score_test"
   ]
  },
  {
   "cell_type": "code",
   "execution_count": 41,
   "metadata": {
    "ExecuteTime": {
     "end_time": "2023-03-22T16:15:33.942449Z",
     "start_time": "2023-03-22T16:15:33.935498Z"
    }
   },
   "outputs": [],
   "source": [
    "y_test = np.array(y_test)"
   ]
  },
  {
   "cell_type": "code",
   "execution_count": 42,
   "metadata": {
    "ExecuteTime": {
     "end_time": "2023-03-22T16:15:35.784082Z",
     "start_time": "2023-03-22T16:15:35.776832Z"
    }
   },
   "outputs": [],
   "source": [
    "def image_draw(i):\n",
    "    return plt.imshow(X_test[i]*255)\n",
    "def image_age(i):\n",
    "    return y_test[i]\n",
    "def image_predict(i):\n",
    "    return model.predict(X_test)[i][0]\n",
    "def image_test(i):\n",
    "    image_draw(i)\n",
    "    print(f'Age réel : {image_age(i)}')\n",
    "    print(f'Age prédit : {image_predict(i)}')"
   ]
  },
  {
   "cell_type": "code",
   "execution_count": 43,
   "metadata": {
    "ExecuteTime": {
     "end_time": "2023-03-22T16:15:38.200011Z",
     "start_time": "2023-03-22T16:15:38.197045Z"
    }
   },
   "outputs": [],
   "source": [
    "import random"
   ]
  },
  {
   "cell_type": "code",
   "execution_count": 46,
   "metadata": {
    "ExecuteTime": {
     "end_time": "2023-03-22T16:16:10.246551Z",
     "start_time": "2023-03-22T16:16:08.029618Z"
    }
   },
   "outputs": [
    {
     "name": "stdout",
     "output_type": "stream",
     "text": [
      "Age réel : 50\n",
      "223/223 [==============================] - 2s 9ms/step\n",
      "Age prédit : 62.72119903564453\n"
     ]
    },
    {
     "data": {
      "image/png": "[encoded data removed]",
      "text/plain": [
       "<Figure size 640x480 with 1 Axes>"
      ]
     },
     "metadata": {},
     "output_type": "display_data"
    }
   ],
   "source": [
    "n = random.randint(0, len(y_test))\n",
    "image_test(n)"
   ]
  },
  {
   "cell_type": "code",
   "execution_count": 49,
   "metadata": {
    "ExecuteTime": {
     "end_time": "2023-03-22T16:16:42.247806Z",
     "start_time": "2023-03-22T16:16:42.150786Z"
    }
   },
   "outputs": [
    {
     "data": {
      "text/plain": [
       "<matplotlib.image.AxesImage at 0x2a24b1450>"
      ]
     },
     "execution_count": 49,
     "metadata": {},
     "output_type": "execute_result"
    },
    {
     "data": {
      "image/png": "[encoded data removed]",
      "text/plain": [
       "<Figure size 640x480 with 1 Axes>"
      ]
     },
     "metadata": {},
     "output_type": "display_data"
    }
   ],
   "source": [
    "X0 = np.load('photos_normees/Alain59_np.npy')\n",
    "y0 = 53\n",
    "plt.imshow(X0)"
   ]
  },
  {
   "cell_type": "code",
   "execution_count": 50,
   "metadata": {
    "ExecuteTime": {
     "end_time": "2023-03-22T16:16:59.465895Z",
     "start_time": "2023-03-22T16:16:59.462642Z"
    }
   },
   "outputs": [],
   "source": [
    "X1 = X0 / 255\n",
    "X1 = X1.reshape(1,48,48,1)"
   ]
  },
  {
   "cell_type": "code",
   "execution_count": null,
   "metadata": {},
   "outputs": [],
   "source": []
  }
 ],
 "metadata": {
  "accelerator": "GPU",
  "colab": {
   "authorship_tag": "ABX9TyMOYn4GJAg9EKtu1bGhcoI1",
   "collapsed_sections": [],
   "name": "certification_DL_images",
   "provenance": [],
   "toc_visible": true
  },
  "kernelspec": {
   "display_name": "Python 3 (ipykernel)",
   "language": "python",
   "name": "python3"
  },
  "language_info": {
   "codemirror_mode": {
    "name": "ipython",
    "version": 3
   },
   "file_extension": ".py",
   "mimetype": "text/x-python",
   "name": "python",
   "nbconvert_exporter": "python",
   "pygments_lexer": "ipython3",
   "version": "3.10.6"
  },
  "toc": {
   "base_numbering": 1,
   "nav_menu": {},
   "number_sections": false,
   "sideBar": true,
   "skip_h1_title": false,
   "title_cell": "Table of Contents",
   "title_sidebar": "Contents",
   "toc_cell": false,
   "toc_position": {
    "height": "calc(100% - 180px)",
    "left": "10px",
    "top": "150px",
    "width": "336px"
   },
   "toc_section_display": true,
   "toc_window_display": false
  },
  "varInspector": {
   "cols": {
    "lenName": 16,
    "lenType": 16,
    "lenVar": 40
   },
   "kernels_config": {
    "python": {
     "delete_cmd_postfix": "",
     "delete_cmd_prefix": "del ",
     "library": "var_list.py",
     "varRefreshCmd": "print(var_dic_list())"
    },
    "r": {
     "delete_cmd_postfix": ") ",
     "delete_cmd_prefix": "rm(",
     "library": "var_list.r",
     "varRefreshCmd": "cat(var_dic_list()) "
    }
   },
   "types_to_exclude": [
    "module",
    "function",
    "builtin_function_or_method",
    "instance",
    "_Feature"
   ],
   "window_display": false
  }
 },
 "nbformat": 4,
 "nbformat_minor": 1
}
