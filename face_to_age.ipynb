{
 "cells": [
  {
   "cell_type": "markdown",
   "metadata": {
    "id": "WCk2YEqBhdP2"
   },
   "source": [
    "## 1. CNN challenge - Face to Age"
   ]
  },
  {
   "cell_type": "markdown",
   "metadata": {
    "id": "JBXc4442fJZV"
   },
   "source": [
    "### Objectives\n",
    "-  Visualize images\n",
    "-  Preprocess images for Neural Networks\n",
    "-  Fit a custom CNN for a regression task\n",
    "-  Fine-tune an analyse model performance"
   ]
  },
  {
   "cell_type": "markdown",
   "metadata": {
    "id": "gv76LFXjqzau"
   },
   "source": [
    "### 1.1 Visualize images"
   ]
  },
  {
   "cell_type": "markdown",
   "metadata": {},
   "source": [
    "**👉 Load the dataset (200 Mo)**"
   ]
  },
  {
   "cell_type": "code",
   "execution_count": 1,
   "metadata": {
    "ExecuteTime": {
     "end_time": "2023-03-28T10:11:19.817510Z",
     "start_time": "2023-03-28T10:11:18.073866Z"
    },
    "executionInfo": {
     "elapsed": 10102,
     "status": "ok",
     "timestamp": 1615229794824,
     "user": {
      "displayName": "Bruno Lajoie",
      "photoUrl": "https://lh3.googleusercontent.com/a-/AOh14Gg0dl6gThG8gOPbCvHbgt62zQnsi8cgbQ7C5HkD_Cg=s64",
      "userId": "15793030209206844069"
     },
     "user_tz": -60
    },
    "id": "2tZUrTCepyPs"
   },
   "outputs": [
    {
     "data": {
      "text/html": [
       "<div>\n",
       "<style scoped>\n",
       "    .dataframe tbody tr th:only-of-type {\n",
       "        vertical-align: middle;\n",
       "    }\n",
       "\n",
       "    .dataframe tbody tr th {\n",
       "        vertical-align: top;\n",
       "    }\n",
       "\n",
       "    .dataframe thead th {\n",
       "        text-align: right;\n",
       "    }\n",
       "</style>\n",
       "<table border=\"1\" class=\"dataframe\">\n",
       "  <thead>\n",
       "    <tr style=\"text-align: right;\">\n",
       "      <th></th>\n",
       "      <th>age</th>\n",
       "      <th>pixels</th>\n",
       "    </tr>\n",
       "  </thead>\n",
       "  <tbody>\n",
       "    <tr>\n",
       "      <th>0</th>\n",
       "      <td>45</td>\n",
       "      <td>200 168 96 107 123 132 132 135 135 134 134 137...</td>\n",
       "    </tr>\n",
       "    <tr>\n",
       "      <th>1</th>\n",
       "      <td>1</td>\n",
       "      <td>223 226 231 234 236 238 238 240 240 240 240 23...</td>\n",
       "    </tr>\n",
       "    <tr>\n",
       "      <th>2</th>\n",
       "      <td>35</td>\n",
       "      <td>23 29 24 29 47 71 110 141 166 169 169 174 179 ...</td>\n",
       "    </tr>\n",
       "    <tr>\n",
       "      <th>3</th>\n",
       "      <td>28</td>\n",
       "      <td>9 6 11 12 30 65 82 37 47 16 27 26 32 74 141 16...</td>\n",
       "    </tr>\n",
       "    <tr>\n",
       "      <th>4</th>\n",
       "      <td>24</td>\n",
       "      <td>67 66 63 59 61 62 60 66 83 103 139 173 192 194...</td>\n",
       "    </tr>\n",
       "    <tr>\n",
       "      <th>...</th>\n",
       "      <td>...</td>\n",
       "      <td>...</td>\n",
       "    </tr>\n",
       "    <tr>\n",
       "      <th>23700</th>\n",
       "      <td>35</td>\n",
       "      <td>48 47 52 66 78 89 96 104 117 127 139 142 149 1...</td>\n",
       "    </tr>\n",
       "    <tr>\n",
       "      <th>23701</th>\n",
       "      <td>55</td>\n",
       "      <td>101 107 110 114 118 120 127 129 132 137 139 14...</td>\n",
       "    </tr>\n",
       "    <tr>\n",
       "      <th>23702</th>\n",
       "      <td>28</td>\n",
       "      <td>161 134 113 114 98 93 92 90 82 58 23 45 85 105...</td>\n",
       "    </tr>\n",
       "    <tr>\n",
       "      <th>23703</th>\n",
       "      <td>3</td>\n",
       "      <td>65 82 84 129 141 116 43 46 54 71 58 60 64 66 7...</td>\n",
       "    </tr>\n",
       "    <tr>\n",
       "      <th>23704</th>\n",
       "      <td>2</td>\n",
       "      <td>31 40 50 54 66 79 84 100 118 136 150 159 165 1...</td>\n",
       "    </tr>\n",
       "  </tbody>\n",
       "</table>\n",
       "<p>23705 rows × 2 columns</p>\n",
       "</div>"
      ],
      "text/plain": [
       "       age                                             pixels\n",
       "0       45  200 168 96 107 123 132 132 135 135 134 134 137...\n",
       "1        1  223 226 231 234 236 238 238 240 240 240 240 23...\n",
       "2       35  23 29 24 29 47 71 110 141 166 169 169 174 179 ...\n",
       "3       28  9 6 11 12 30 65 82 37 47 16 27 26 32 74 141 16...\n",
       "4       24  67 66 63 59 61 62 60 66 83 103 139 173 192 194...\n",
       "...    ...                                                ...\n",
       "23700   35  48 47 52 66 78 89 96 104 117 127 139 142 149 1...\n",
       "23701   55  101 107 110 114 118 120 127 129 132 137 139 14...\n",
       "23702   28  161 134 113 114 98 93 92 90 82 58 23 45 85 105...\n",
       "23703    3  65 82 84 129 141 116 43 46 54 71 58 60 64 66 7...\n",
       "23704    2  31 40 50 54 66 79 84 100 118 136 150 159 165 1...\n",
       "\n",
       "[23705 rows x 2 columns]"
      ]
     },
     "execution_count": 1,
     "metadata": {},
     "output_type": "execute_result"
    }
   ],
   "source": [
    "import pandas as pd\n",
    "import numpy as np\n",
    "data = pd.read_csv('data/images/images.csv')\n",
    "data = data.sample(frac=1, random_state=0).reset_index(drop=True)\n",
    "data"
   ]
  },
  {
   "cell_type": "code",
   "execution_count": 2,
   "metadata": {
    "ExecuteTime": {
     "end_time": "2023-03-28T10:11:19.826813Z",
     "start_time": "2023-03-28T10:11:19.818500Z"
    }
   },
   "outputs": [
    {
     "name": "stdout",
     "output_type": "stream",
     "text": [
      "<class 'pandas.core.frame.DataFrame'>\n",
      "RangeIndex: 23705 entries, 0 to 23704\n",
      "Data columns (total 2 columns):\n",
      " #   Column  Non-Null Count  Dtype \n",
      "---  ------  --------------  ----- \n",
      " 0   age     23705 non-null  int64 \n",
      " 1   pixels  23705 non-null  object\n",
      "dtypes: int64(1), object(1)\n",
      "memory usage: 370.5+ KB\n"
     ]
    }
   ],
   "source": [
    "data.info()"
   ]
  },
  {
   "cell_type": "code",
   "execution_count": 3,
   "metadata": {
    "ExecuteTime": {
     "end_time": "2023-03-28T10:11:19.834149Z",
     "start_time": "2023-03-28T10:11:19.828607Z"
    }
   },
   "outputs": [
    {
     "data": {
      "text/html": [
       "<div>\n",
       "<style scoped>\n",
       "    .dataframe tbody tr th:only-of-type {\n",
       "        vertical-align: middle;\n",
       "    }\n",
       "\n",
       "    .dataframe tbody tr th {\n",
       "        vertical-align: top;\n",
       "    }\n",
       "\n",
       "    .dataframe thead th {\n",
       "        text-align: right;\n",
       "    }\n",
       "</style>\n",
       "<table border=\"1\" class=\"dataframe\">\n",
       "  <thead>\n",
       "    <tr style=\"text-align: right;\">\n",
       "      <th></th>\n",
       "      <th>age</th>\n",
       "      <th>pixels</th>\n",
       "    </tr>\n",
       "  </thead>\n",
       "  <tbody>\n",
       "    <tr>\n",
       "      <th>664</th>\n",
       "      <td>115</td>\n",
       "      <td>209 209 205 193 191 145 62 51 43 53 71 60 68 5...</td>\n",
       "    </tr>\n",
       "    <tr>\n",
       "      <th>1507</th>\n",
       "      <td>105</td>\n",
       "      <td>187 171 158 187 196 198 198 193 175 155 168 19...</td>\n",
       "    </tr>\n",
       "    <tr>\n",
       "      <th>1588</th>\n",
       "      <td>100</td>\n",
       "      <td>16 22 29 34 43 56 76 108 135 137 125 127 131 1...</td>\n",
       "    </tr>\n",
       "    <tr>\n",
       "      <th>3332</th>\n",
       "      <td>100</td>\n",
       "      <td>116 115 121 107 122 127 100 133 136 142 149 14...</td>\n",
       "    </tr>\n",
       "    <tr>\n",
       "      <th>3990</th>\n",
       "      <td>116</td>\n",
       "      <td>207 200 197 181 186 174 184 185 162 164 164 16...</td>\n",
       "    </tr>\n",
       "    <tr>\n",
       "      <th>5366</th>\n",
       "      <td>100</td>\n",
       "      <td>203 185 139 163 176 184 186 175 175 156 159 13...</td>\n",
       "    </tr>\n",
       "    <tr>\n",
       "      <th>6335</th>\n",
       "      <td>100</td>\n",
       "      <td>235 164 113 144 121 201 243 237 234 221 233 23...</td>\n",
       "    </tr>\n",
       "    <tr>\n",
       "      <th>7410</th>\n",
       "      <td>101</td>\n",
       "      <td>222 222 223 222 218 195 130 81 222 241 233 236...</td>\n",
       "    </tr>\n",
       "    <tr>\n",
       "      <th>8283</th>\n",
       "      <td>110</td>\n",
       "      <td>38 38 39 38 39 92 12 11 43 52 47 36 19 23 20 2...</td>\n",
       "    </tr>\n",
       "    <tr>\n",
       "      <th>8720</th>\n",
       "      <td>100</td>\n",
       "      <td>70 72 94 149 154 166 175 169 172 161 176 187 2...</td>\n",
       "    </tr>\n",
       "    <tr>\n",
       "      <th>9376</th>\n",
       "      <td>111</td>\n",
       "      <td>101 96 95 93 94 97 100 103 106 108 110 111 112...</td>\n",
       "    </tr>\n",
       "    <tr>\n",
       "      <th>10786</th>\n",
       "      <td>103</td>\n",
       "      <td>195 248 124 87 86 33 57 67 53 56 53 54 43 44 4...</td>\n",
       "    </tr>\n",
       "    <tr>\n",
       "      <th>11110</th>\n",
       "      <td>105</td>\n",
       "      <td>175 172 159 148 144 135 134 126 124 133 131 12...</td>\n",
       "    </tr>\n",
       "    <tr>\n",
       "      <th>11237</th>\n",
       "      <td>100</td>\n",
       "      <td>82 82 82 82 82 82 84 86 90 85 104 105 102 154 ...</td>\n",
       "    </tr>\n",
       "    <tr>\n",
       "      <th>12341</th>\n",
       "      <td>100</td>\n",
       "      <td>2 80 81 81 81 81 83 84 87 89 90 108 107 124 16...</td>\n",
       "    </tr>\n",
       "    <tr>\n",
       "      <th>12808</th>\n",
       "      <td>110</td>\n",
       "      <td>35 60 66 67 78 173 183 173 157 153 154 158 156...</td>\n",
       "    </tr>\n",
       "    <tr>\n",
       "      <th>13502</th>\n",
       "      <td>115</td>\n",
       "      <td>218 212 204 195 181 155 165 174 144 153 155 14...</td>\n",
       "    </tr>\n",
       "    <tr>\n",
       "      <th>13586</th>\n",
       "      <td>100</td>\n",
       "      <td>183 202 172 130 112 102 131 113 105 93 118 117...</td>\n",
       "    </tr>\n",
       "    <tr>\n",
       "      <th>14195</th>\n",
       "      <td>105</td>\n",
       "      <td>251 250 251 251 250 244 226 210 192 166 162 15...</td>\n",
       "    </tr>\n",
       "    <tr>\n",
       "      <th>15835</th>\n",
       "      <td>116</td>\n",
       "      <td>133 147 143 150 206 60 45 101 144 76 25 85 114...</td>\n",
       "    </tr>\n",
       "    <tr>\n",
       "      <th>16768</th>\n",
       "      <td>115</td>\n",
       "      <td>170 153 145 141 133 140 141 146 144 150 171 17...</td>\n",
       "    </tr>\n",
       "    <tr>\n",
       "      <th>18610</th>\n",
       "      <td>110</td>\n",
       "      <td>5 10 17 22 10 18 34 46 36 44 45 42 59 63 83 11...</td>\n",
       "    </tr>\n",
       "    <tr>\n",
       "      <th>19127</th>\n",
       "      <td>110</td>\n",
       "      <td>1 0 3 28 94 125 145 159 78 153 98 213 219 212 ...</td>\n",
       "    </tr>\n",
       "    <tr>\n",
       "      <th>19446</th>\n",
       "      <td>105</td>\n",
       "      <td>103 113 125 124 129 120 119 120 129 132 139 12...</td>\n",
       "    </tr>\n",
       "    <tr>\n",
       "      <th>19479</th>\n",
       "      <td>100</td>\n",
       "      <td>182 218 191 178 129 141 166 154 203 202 214 19...</td>\n",
       "    </tr>\n",
       "    <tr>\n",
       "      <th>19653</th>\n",
       "      <td>100</td>\n",
       "      <td>125 126 115 78 66 66 77 85 95 102 117 138 138 ...</td>\n",
       "    </tr>\n",
       "    <tr>\n",
       "      <th>20653</th>\n",
       "      <td>100</td>\n",
       "      <td>40 34 35 38 32 23 21 31 46 55 61 71 86 96 103 ...</td>\n",
       "    </tr>\n",
       "    <tr>\n",
       "      <th>20943</th>\n",
       "      <td>105</td>\n",
       "      <td>161 115 157 145 165 203 154 137 150 153 160 12...</td>\n",
       "    </tr>\n",
       "    <tr>\n",
       "      <th>21298</th>\n",
       "      <td>116</td>\n",
       "      <td>81 91 101 106 113 115 117 121 122 122 122 128 ...</td>\n",
       "    </tr>\n",
       "    <tr>\n",
       "      <th>21368</th>\n",
       "      <td>116</td>\n",
       "      <td>105 86 95 135 159 150 147 147 153 117 148 160 ...</td>\n",
       "    </tr>\n",
       "    <tr>\n",
       "      <th>22147</th>\n",
       "      <td>110</td>\n",
       "      <td>163 177 169 142 141 147 141 135 156 139 137 14...</td>\n",
       "    </tr>\n",
       "    <tr>\n",
       "      <th>22778</th>\n",
       "      <td>101</td>\n",
       "      <td>183 184 177 174 172 165 169 172 174 178 168 17...</td>\n",
       "    </tr>\n",
       "  </tbody>\n",
       "</table>\n",
       "</div>"
      ],
      "text/plain": [
       "       age                                             pixels\n",
       "664    115  209 209 205 193 191 145 62 51 43 53 71 60 68 5...\n",
       "1507   105  187 171 158 187 196 198 198 193 175 155 168 19...\n",
       "1588   100  16 22 29 34 43 56 76 108 135 137 125 127 131 1...\n",
       "3332   100  116 115 121 107 122 127 100 133 136 142 149 14...\n",
       "3990   116  207 200 197 181 186 174 184 185 162 164 164 16...\n",
       "5366   100  203 185 139 163 176 184 186 175 175 156 159 13...\n",
       "6335   100  235 164 113 144 121 201 243 237 234 221 233 23...\n",
       "7410   101  222 222 223 222 218 195 130 81 222 241 233 236...\n",
       "8283   110  38 38 39 38 39 92 12 11 43 52 47 36 19 23 20 2...\n",
       "8720   100  70 72 94 149 154 166 175 169 172 161 176 187 2...\n",
       "9376   111  101 96 95 93 94 97 100 103 106 108 110 111 112...\n",
       "10786  103  195 248 124 87 86 33 57 67 53 56 53 54 43 44 4...\n",
       "11110  105  175 172 159 148 144 135 134 126 124 133 131 12...\n",
       "11237  100  82 82 82 82 82 82 84 86 90 85 104 105 102 154 ...\n",
       "12341  100  2 80 81 81 81 81 83 84 87 89 90 108 107 124 16...\n",
       "12808  110  35 60 66 67 78 173 183 173 157 153 154 158 156...\n",
       "13502  115  218 212 204 195 181 155 165 174 144 153 155 14...\n",
       "13586  100  183 202 172 130 112 102 131 113 105 93 118 117...\n",
       "14195  105  251 250 251 251 250 244 226 210 192 166 162 15...\n",
       "15835  116  133 147 143 150 206 60 45 101 144 76 25 85 114...\n",
       "16768  115  170 153 145 141 133 140 141 146 144 150 171 17...\n",
       "18610  110  5 10 17 22 10 18 34 46 36 44 45 42 59 63 83 11...\n",
       "19127  110  1 0 3 28 94 125 145 159 78 153 98 213 219 212 ...\n",
       "19446  105  103 113 125 124 129 120 119 120 129 132 139 12...\n",
       "19479  100  182 218 191 178 129 141 166 154 203 202 214 19...\n",
       "19653  100  125 126 115 78 66 66 77 85 95 102 117 138 138 ...\n",
       "20653  100  40 34 35 38 32 23 21 31 46 55 61 71 86 96 103 ...\n",
       "20943  105  161 115 157 145 165 203 154 137 150 153 160 12...\n",
       "21298  116  81 91 101 106 113 115 117 121 122 122 122 128 ...\n",
       "21368  116  105 86 95 135 159 150 147 147 153 117 148 160 ...\n",
       "22147  110  163 177 169 142 141 147 141 135 156 139 137 14...\n",
       "22778  101  183 184 177 174 172 165 169 172 174 178 168 17..."
      ]
     },
     "execution_count": 3,
     "metadata": {},
     "output_type": "execute_result"
    }
   ],
   "source": [
    "centenaires = data[data.age>=100]\n",
    "centenaires"
   ]
  },
  {
   "cell_type": "markdown",
   "metadata": {},
   "source": [
    "Each row represent the image of a face in black and white\n",
    "- `age` is the age in year\n",
    "- `pixels` contains the 2304 (= 48 * 48) flatten values of each pixel in the image, in a black scale from 0 to 255, stored as string"
   ]
  },
  {
   "cell_type": "code",
   "execution_count": 4,
   "metadata": {
    "ExecuteTime": {
     "end_time": "2023-03-28T10:11:19.839329Z",
     "start_time": "2023-03-28T10:11:19.835408Z"
    }
   },
   "outputs": [
    {
     "name": "stdout",
     "output_type": "stream",
     "text": [
      "<class 'pandas.core.frame.DataFrame'>\n",
      "Int64Index: 32 entries, 664 to 22778\n",
      "Data columns (total 2 columns):\n",
      " #   Column  Non-Null Count  Dtype \n",
      "---  ------  --------------  ----- \n",
      " 0   age     32 non-null     int64 \n",
      " 1   pixels  32 non-null     object\n",
      "dtypes: int64(1), object(1)\n",
      "memory usage: 768.0+ bytes\n"
     ]
    }
   ],
   "source": [
    "centenaires.info()"
   ]
  },
  {
   "cell_type": "code",
   "execution_count": 5,
   "metadata": {
    "ExecuteTime": {
     "end_time": "2023-03-28T10:11:19.843610Z",
     "start_time": "2023-03-28T10:11:19.840324Z"
    }
   },
   "outputs": [
    {
     "data": {
      "text/plain": [
       "'200 168 96 107 123 132 132 135 135 134 134 137 139 140 141 142 143 145 149 153 155 153 149 144 139 124 114 113 111 104 96 93 96 95 91 91 91 86 84 130 173 194 191 194 195 195 193 193 196 154 88 108 126 133 126 132 132 131 131 135 139 143 146 149 150 152 153 155 157 155 151 145 140 131 123 123 120 112 107 104 104 99 90 91 92 83 88 102 158 189 193 193 193 193 193 193 190 135 86 109 122 123 126 132 130 129 129 133 141 148 153 154 156 155 155 152 150 151 151 148 141 137 130 128 123 121 122 117 106 100 91 95 89 86 89 82 134 185 196 191 192 192 193 193 188 117 88 114 124 124 130 129 127 128 126 131 144 154 159 160 163 161 159 153 143 141 145 145 140 141 139 137 134 125 121 116 103 104 100 95 83 87 88 78 118 176 196 191 192 192 193 193 170 108 89 111 120 124 127 124 118 120 126 138 147 155 162 163 161 160 162 155 142 137 139 143 140 141 141 138 135 123 119 116 106 107 104 98 84 86 89 76 106 165 197 191 192 192 193 193 145 99 94 109 114 123 124 122 119 124 140 148 151 153 157 156 151 151 155 155 146 138 136 140 140 139 133 126 123 118 118 118 111 110 106 102 92 88 86 75 99 160 197 191 192 192 193 193 127 96 99 106 109 126 125 121 129 135 147 147 141 133 129 129 128 130 136 140 139 134 134 135 136 133 127 118 116 111 112 115 109 110 101 102 99 91 85 71 95 154 199 191 191 193 193 193 116 97 101 104 112 125 126 128 135 139 131 128 117 100 84 81 82 89 104 114 121 121 123 125 123 119 118 112 110 99 92 92 88 95 92 95 94 90 85 79 97 147 199 191 191 193 193 193 107 102 103 108 117 125 126 127 125 118 107 98 90 77 58 51 51 55 70 87 97 105 113 114 110 102 101 96 92 78 65 60 59 68 72 77 80 83 85 88 89 140 196 191 191 193 193 193 98 101 98 107 126 125 123 125 111 99 93 87 83 75 67 57 52 50 56 71 82 94 108 110 104 91 85 78 73 58 50 47 48 56 65 66 66 73 86 97 88 129 194 191 191 193 193 193 88 99 95 114 135 129 120 114 99 87 93 86 88 90 85 71 62 55 57 66 80 94 113 116 104 93 76 64 57 47 45 50 51 60 68 65 62 66 73 86 77 119 195 183 186 192 192 192 82 95 101 123 134 134 120 99 87 90 91 93 94 93 80 68 67 59 56 63 81 106 129 131 107 94 79 62 54 48 51 58 62 67 73 67 67 63 68 84 81 118 198 191 191 193 192 192 91 93 106 124 136 132 121 101 87 87 86 84 82 73 60 60 68 57 51 60 77 105 134 140 122 98 72 56 52 52 53 56 53 61 70 63 64 64 73 87 83 117 197 198 193 192 191 193 101 91 110 129 139 128 113 95 84 78 75 73 61 46 36 54 69 60 55 66 80 107 131 140 127 101 65 45 45 52 49 41 34 52 62 51 56 60 72 83 90 123 195 194 194 193 189 195 105 99 111 134 140 124 104 85 77 72 78 84 74 52 46 69 86 78 78 91 100 116 133 137 128 104 69 45 48 67 64 52 46 64 70 53 51 54 63 79 91 134 188 181 195 195 189 194 117 106 112 135 139 119 103 90 86 83 89 107 112 94 83 90 96 85 94 113 121 124 127 131 122 101 70 60 71 87 85 82 73 84 85 67 52 52 61 79 90 117 145 149 182 196 187 191 116 108 113 133 134 121 117 117 117 115 111 110 111 103 92 85 80 83 103 120 122 118 125 132 122 100 76 76 86 87 83 87 83 83 85 70 54 59 70 79 89 85 83 106 160 192 187 191 108 104 110 129 129 124 127 133 139 138 127 111 101 94 82 78 81 102 125 132 130 122 133 141 135 117 91 87 86 86 78 73 70 78 78 77 74 80 81 79 84 75 55 67 143 189 190 192 106 89 103 128 129 124 127 130 132 134 133 120 109 100 93 98 115 136 146 146 132 126 137 150 144 123 97 90 93 101 98 88 76 90 95 92 100 97 91 81 85 82 60 57 126 190 190 189 104 85 101 123 127 123 123 129 126 133 137 134 123 122 123 132 142 152 152 145 138 137 139 148 144 126 99 90 95 105 111 109 108 110 114 119 119 103 93 87 84 77 59 62 95 184 192 189 88 83 94 112 117 116 119 129 129 136 135 138 134 131 135 144 146 140 137 132 131 134 143 157 150 131 100 86 88 98 109 117 115 116 118 119 116 101 92 87 84 77 60 65 76 166 191 185 69 62 84 98 110 112 114 127 127 131 129 139 139 131 137 151 143 126 126 133 134 137 156 169 157 133 101 87 86 98 110 120 118 112 115 115 113 97 88 83 79 72 57 67 61 153 188 182 75 77 88 94 109 116 115 119 120 127 129 138 138 134 143 147 123 114 131 141 138 140 154 157 143 122 96 85 90 101 113 125 119 108 109 108 107 93 83 78 75 68 56 69 55 146 183 181 94 105 94 91 101 115 116 117 118 127 131 136 134 137 142 127 97 100 123 120 115 115 128 124 109 99 79 71 79 90 103 118 117 106 106 100 98 87 79 75 73 61 58 66 58 146 176 174 109 111 96 86 97 111 112 110 115 124 134 131 132 136 124 95 85 98 98 71 60 67 86 89 82 76 58 49 61 68 78 100 110 109 106 96 90 83 74 70 68 56 53 62 62 143 171 169 115 108 94 92 99 108 106 108 115 121 128 129 132 131 103 77 95 108 85 46 31 44 60 65 62 60 42 39 50 53 62 83 102 111 107 90 85 81 70 66 65 52 51 56 65 141 164 168 129 111 93 91 96 104 104 109 119 118 118 124 125 113 92 86 121 126 93 56 45 57 55 49 46 45 41 43 54 55 60 78 92 104 103 86 82 78 69 64 64 52 51 53 69 135 158 164 134 112 87 81 85 97 106 110 122 118 114 118 114 98 85 100 127 124 97 73 66 65 54 43 40 39 42 44 47 56 63 75 87 99 101 86 80 75 70 63 59 56 57 51 83 133 158 162 138 110 80 80 84 96 103 107 117 114 109 106 101 87 79 93 107 106 87 74 70 63 54 45 42 45 50 49 49 58 64 73 81 88 90 80 78 76 71 61 54 52 58 57 87 129 151 155 140 111 89 85 81 86 98 107 108 106 99 94 87 80 77 87 92 85 75 67 61 61 55 47 42 43 54 58 58 61 65 70 77 79 81 78 74 73 72 64 52 51 54 66 96 131 143 145 124 105 95 93 83 76 94 108 104 102 93 90 84 76 69 74 78 77 72 62 57 55 55 53 48 43 48 54 60 59 58 65 71 72 72 76 72 71 73 65 54 52 56 78 102 127 133 136 111 100 96 101 92 83 91 111 108 101 92 85 79 67 60 63 63 65 60 51 47 52 59 59 55 51 50 52 55 50 49 54 59 58 60 70 69 72 70 63 53 54 61 88 107 120 125 128 114 111 98 101 101 92 100 102 100 102 92 76 68 58 52 52 51 49 45 41 43 44 49 54 53 51 43 45 45 42 38 46 51 54 58 73 67 70 70 66 58 60 70 94 108 114 119 121 139 131 116 101 108 103 101 94 100 99 85 76 62 47 41 46 49 51 60 55 49 35 28 30 33 35 45 51 47 42 38 42 46 52 58 70 65 68 68 66 65 71 81 101 108 110 113 118 170 155 146 113 106 106 98 94 102 96 84 78 64 49 39 47 64 81 104 107 95 76 68 65 70 74 81 80 64 53 45 40 38 42 56 69 65 66 65 65 69 79 91 105 107 107 107 115 190 185 179 127 95 97 95 93 96 95 91 83 70 55 50 66 83 94 111 124 132 123 117 115 117 115 101 88 76 63 54 44 41 47 55 68 66 65 65 67 76 90 98 104 105 106 107 113 201 204 196 143 89 97 96 94 91 90 91 86 77 65 69 93 101 96 90 103 110 109 104 103 95 87 75 70 71 66 63 55 51 50 53 60 64 66 68 74 91 104 104 102 103 104 105 111 197 195 198 155 96 96 100 97 94 94 90 87 77 69 76 99 108 96 82 79 75 73 71 67 63 62 59 58 67 66 65 58 53 50 52 61 64 66 69 78 96 105 104 102 103 105 105 110 196 195 194 164 101 91 93 95 99 97 90 80 69 61 73 98 106 101 92 78 66 58 57 52 51 50 53 58 63 67 67 62 56 51 52 60 64 66 69 83 99 100 101 103 103 103 104 109 196 199 193 167 104 88 88 96 100 98 89 76 60 59 74 97 108 106 102 85 70 56 52 49 43 45 52 60 67 74 69 63 57 52 50 60 64 68 73 87 100 100 100 103 103 103 103 106 200 200 194 168 107 87 85 94 102 98 86 70 56 56 76 99 107 110 111 95 78 61 53 49 53 49 58 70 78 77 74 63 57 50 48 58 65 69 78 93 102 99 100 103 103 103 102 104 200 200 196 170 112 91 85 89 96 95 85 71 56 56 77 96 106 114 122 117 105 88 78 75 73 68 71 78 80 77 71 59 53 49 50 59 62 70 84 97 103 100 99 102 102 102 102 104 199 200 195 171 114 98 90 85 88 91 86 74 58 57 70 84 94 104 117 121 119 109 99 93 86 84 79 77 76 71 64 54 49 50 51 59 60 70 92 101 105 103 101 101 101 101 100 103 198 199 195 171 114 105 98 83 84 86 86 75 60 58 60 66 76 87 98 102 106 100 91 80 77 81 78 71 71 64 57 47 46 51 54 59 58 70 94 101 104 105 101 101 101 101 100 103 198 199 195 171 116 109 101 85 81 85 84 76 63 57 56 56 62 73 82 82 84 82 74 66 63 68 64 58 59 57 52 49 50 56 62 58 60 78 97 98 101 101 100 100 100 102 102 105 194 198 196 172 112 105 111 100 80 77 75 71 63 57 56 55 57 61 69 73 66 65 60 56 53 52 51 50 54 52 50 50 51 57 62 59 63 84 99 93 98 100 99 98 102 103 102 105 199 200 202 178 126 114 119 102 75 71 69 65 59 53 52 52 54 54 56 54 51 48 47 46 43 43 44 45 51 49 48 47 49 56 59 55 63 87 98 94 97 98 100 97 101 102 104 105 200 200 197 167 122 111 119 107 84 72 68 61 54 50 50 52 52 53 48 47 46 46 45 44 44 44 41 42 45 46 45 43 46 54 58 54 63 88 99 95 97 99 98 100 99 101 103 104'"
      ]
     },
     "execution_count": 5,
     "metadata": {},
     "output_type": "execute_result"
    }
   ],
   "source": [
    "data.loc[0, 'pixels']"
   ]
  },
  {
   "cell_type": "markdown",
   "metadata": {},
   "source": [
    "**❓ Plot the histogram of age in your dataset.**"
   ]
  },
  {
   "cell_type": "code",
   "execution_count": 6,
   "metadata": {
    "ExecuteTime": {
     "end_time": "2023-03-28T10:11:20.765562Z",
     "start_time": "2023-03-28T10:11:19.844614Z"
    },
    "tags": [
     "challengify"
    ]
   },
   "outputs": [
    {
     "data": {
      "image/png": "[encoded data removed]",
      "text/plain": [
       "<Figure size 640x480 with 1 Axes>"
      ]
     },
     "metadata": {},
     "output_type": "display_data"
    }
   ],
   "source": [
    "import matplotlib.pyplot as plt\n",
    "import seaborn as sns\n",
    "sns.histplot(data['age'], kde=True);"
   ]
  },
  {
   "cell_type": "code",
   "execution_count": 7,
   "metadata": {
    "ExecuteTime": {
     "end_time": "2023-03-28T10:11:20.792353Z",
     "start_time": "2023-03-28T10:11:20.774404Z"
    }
   },
   "outputs": [],
   "source": [
    "def image_def(i):\n",
    "    image_i = np.fromstring(data.loc[i, 'pixels'], dtype = int, sep=' ').reshape(48, 48, 1)\n",
    "    return image_i\n",
    "\n",
    "def image_age(i):\n",
    "    return data.loc[i, 'age']"
   ]
  },
  {
   "cell_type": "markdown",
   "metadata": {
    "id": "JQ1ew-IAwUNL"
   },
   "source": [
    "**❓ Visually display one image of your choice.**"
   ]
  },
  {
   "cell_type": "code",
   "execution_count": 8,
   "metadata": {
    "ExecuteTime": {
     "end_time": "2023-03-28T10:11:20.808186Z",
     "start_time": "2023-03-28T10:11:20.794563Z"
    }
   },
   "outputs": [],
   "source": [
    "import random"
   ]
  },
  {
   "cell_type": "code",
   "execution_count": 9,
   "metadata": {
    "ExecuteTime": {
     "end_time": "2023-03-28T10:11:21.297738Z",
     "start_time": "2023-03-28T10:11:20.832467Z"
    },
    "colab": {
     "base_uri": "https://localhost:8080/",
     "height": 284
    },
    "executionInfo": {
     "elapsed": 594,
     "status": "ok",
     "timestamp": 1615229800246,
     "user": {
      "displayName": "Bruno Lajoie",
      "photoUrl": "https://lh3.googleusercontent.com/a-/AOh14Gg0dl6gThG8gOPbCvHbgt62zQnsi8cgbQ7C5HkD_Cg=s64",
      "userId": "15793030209206844069"
     },
     "user_tz": -60
    },
    "id": "q9dLVirWwMoE",
    "outputId": "cd8b8794-35ff-4405-cef7-15909a03b846",
    "tags": [
     "challengify"
    ]
   },
   "outputs": [
    {
     "data": {
      "image/png": "[encoded data removed]",
      "text/plain": [
       "<Figure size 1000x600 with 10 Axes>"
      ]
     },
     "metadata": {},
     "output_type": "display_data"
    }
   ],
   "source": [
    "fig = plt.figure(constrained_layout=True, figsize=(10, 6))\n",
    "gs = fig.add_gridspec(2,5)\n",
    "ax1 = fig.add_subplot(gs[0, 0])\n",
    "ax2 = fig.add_subplot(gs[0, 1])\n",
    "ax3 = fig.add_subplot(gs[0, 2])\n",
    "ax4 = fig.add_subplot(gs[0, 3])\n",
    "ax5 = fig.add_subplot(gs[0, 4])\n",
    "ax6 = fig.add_subplot(gs[1, 0])\n",
    "ax7 = fig.add_subplot(gs[1, 1])\n",
    "ax8 = fig.add_subplot(gs[1, 2])\n",
    "ax9 = fig.add_subplot(gs[1, 3])\n",
    "ax10 = fig.add_subplot(gs[1, 4])\n",
    "draws = [ax1, ax2, ax3, ax4, ax5, ax6, ax7, ax8, ax9, ax10]\n",
    "for ax in draws:\n",
    "    i = random.randint(0, len(data))\n",
    "    ax.imshow(image_def(i)) # cmap='gray'\n",
    "    ax.set_title(f'Age : {image_age(i)} an(s)')"
   ]
  },
  {
   "cell_type": "code",
   "execution_count": 10,
   "metadata": {
    "ExecuteTime": {
     "end_time": "2023-03-28T10:11:21.300535Z",
     "start_time": "2023-03-28T10:11:21.298546Z"
    }
   },
   "outputs": [
    {
     "data": {
      "text/plain": [
       "27"
      ]
     },
     "execution_count": 10,
     "metadata": {},
     "output_type": "execute_result"
    }
   ],
   "source": [
    "image_age(60)"
   ]
  },
  {
   "cell_type": "code",
   "execution_count": 11,
   "metadata": {
    "ExecuteTime": {
     "end_time": "2023-03-28T10:11:21.359981Z",
     "start_time": "2023-03-28T10:11:21.301424Z"
    }
   },
   "outputs": [
    {
     "data": {
      "text/plain": [
       "<matplotlib.image.AxesImage at 0x282e21630>"
      ]
     },
     "execution_count": 11,
     "metadata": {},
     "output_type": "execute_result"
    },
    {
     "data": {
      "image/png": "[encoded data removed]",
      "text/plain": [
       "<Figure size 640x480 with 1 Axes>"
      ]
     },
     "metadata": {},
     "output_type": "display_data"
    }
   ],
   "source": [
    "plt.imshow(image_def(60))"
   ]
  },
  {
   "cell_type": "markdown",
   "metadata": {},
   "source": [
    "**❓ What is the physical characteristic of the image at _index_ `60`?**\n",
    "\n",
    "- Store in the 3 boolean variables `smile`/`glasses`/`hat` the values `True` if the person smiles/wears glasses/has a hat, `False` else."
   ]
  },
  {
   "cell_type": "code",
   "execution_count": 12,
   "metadata": {
    "ExecuteTime": {
     "end_time": "2023-03-28T10:11:21.363389Z",
     "start_time": "2023-03-28T10:11:21.361393Z"
    }
   },
   "outputs": [],
   "source": [
    "# Store your result in the variable below\n",
    "\n",
    "smile = True\n",
    "glasses = False\n",
    "hat = False"
   ]
  },
  {
   "cell_type": "markdown",
   "metadata": {
    "id": "AjeMU0GTwFSe"
   },
   "source": [
    "### 1.2 Processing"
   ]
  },
  {
   "cell_type": "markdown",
   "metadata": {},
   "source": [
    "**❓ Your goal is to train a convolutional neural network model to predict the _age_ of a person based solely on a picture of his/her face.**\n",
    "- Create your **feature matrix** `X` as `ndarray` scaled between 0 and 1\n",
    "- Create your **target vector** `y` as `ndarray`\n",
    "- Create your holdout sets: 4 variables (`X_train`, `y_train`) and (`X_test`, `y_test`) keeping the **first** `70%` as the train set\n",
    "- `X` and `y` shapes should fit a CNN (`model.fit(X,y)`)\n",
    "\n",
    "😌 Don't worry, you will be given the solution in the next question in case you don't make it"
   ]
  },
  {
   "cell_type": "code",
   "execution_count": 13,
   "metadata": {
    "ExecuteTime": {
     "end_time": "2023-03-28T10:11:21.366760Z",
     "start_time": "2023-03-28T10:11:21.364622Z"
    }
   },
   "outputs": [],
   "source": [
    "y = np.array(data.age)"
   ]
  },
  {
   "cell_type": "code",
   "execution_count": 14,
   "metadata": {
    "ExecuteTime": {
     "end_time": "2023-03-28T10:11:21.370916Z",
     "start_time": "2023-03-28T10:11:21.367919Z"
    }
   },
   "outputs": [
    {
     "data": {
      "text/plain": [
       "array([45,  1, 35, ..., 28,  3,  2])"
      ]
     },
     "execution_count": 14,
     "metadata": {},
     "output_type": "execute_result"
    }
   ],
   "source": [
    "y"
   ]
  },
  {
   "cell_type": "code",
   "execution_count": 15,
   "metadata": {
    "ExecuteTime": {
     "end_time": "2023-03-28T10:11:28.681136Z",
     "start_time": "2023-03-28T10:11:21.372645Z"
    }
   },
   "outputs": [
    {
     "name": "stdout",
     "output_type": "stream",
     "text": [
      "(23705, 48, 48, 1)\n"
     ]
    },
    {
     "data": {
      "text/plain": [
       "array([[[[0.78431373],\n",
       "         [0.65882353],\n",
       "         [0.37647059],\n",
       "         ...,\n",
       "         [0.76470588],\n",
       "         [0.75686275],\n",
       "         [0.75686275]],\n",
       "\n",
       "        [[0.76862745],\n",
       "         [0.60392157],\n",
       "         [0.34509804],\n",
       "         ...,\n",
       "         [0.75686275],\n",
       "         [0.75686275],\n",
       "         [0.75686275]],\n",
       "\n",
       "        [[0.74509804],\n",
       "         [0.52941176],\n",
       "         [0.3372549 ],\n",
       "         ...,\n",
       "         [0.75294118],\n",
       "         [0.75686275],\n",
       "         [0.75686275]],\n",
       "\n",
       "        ...,\n",
       "\n",
       "        [[0.76078431],\n",
       "         [0.77647059],\n",
       "         [0.76862745],\n",
       "         ...,\n",
       "         [0.40392157],\n",
       "         [0.4       ],\n",
       "         [0.41176471]],\n",
       "\n",
       "        [[0.78039216],\n",
       "         [0.78431373],\n",
       "         [0.79215686],\n",
       "         ...,\n",
       "         [0.4       ],\n",
       "         [0.40784314],\n",
       "         [0.41176471]],\n",
       "\n",
       "        [[0.78431373],\n",
       "         [0.78431373],\n",
       "         [0.77254902],\n",
       "         ...,\n",
       "         [0.39607843],\n",
       "         [0.40392157],\n",
       "         [0.40784314]]],\n",
       "\n",
       "\n",
       "       [[[0.8745098 ],\n",
       "         [0.88627451],\n",
       "         [0.90588235],\n",
       "         ...,\n",
       "         [0.8627451 ],\n",
       "         [0.        ],\n",
       "         [0.        ]],\n",
       "\n",
       "        [[0.88235294],\n",
       "         [0.89019608],\n",
       "         [0.90588235],\n",
       "         ...,\n",
       "         [0.87058824],\n",
       "         [0.        ],\n",
       "         [0.        ]],\n",
       "\n",
       "        [[0.88235294],\n",
       "         [0.89019608],\n",
       "         [0.89803922],\n",
       "         ...,\n",
       "         [0.86666667],\n",
       "         [0.        ],\n",
       "         [0.        ]],\n",
       "\n",
       "        ...,\n",
       "\n",
       "        [[0.87843137],\n",
       "         [0.87058824],\n",
       "         [0.9372549 ],\n",
       "         ...,\n",
       "         [0.00392157],\n",
       "         [0.        ],\n",
       "         [0.        ]],\n",
       "\n",
       "        [[0.94901961],\n",
       "         [0.96078431],\n",
       "         [0.95686275],\n",
       "         ...,\n",
       "         [0.        ],\n",
       "         [0.        ],\n",
       "         [0.        ]],\n",
       "\n",
       "        [[0.56862745],\n",
       "         [0.56862745],\n",
       "         [0.56862745],\n",
       "         ...,\n",
       "         [0.        ],\n",
       "         [0.        ],\n",
       "         [0.        ]]],\n",
       "\n",
       "\n",
       "       [[[0.09019608],\n",
       "         [0.11372549],\n",
       "         [0.09411765],\n",
       "         ...,\n",
       "         [0.10980392],\n",
       "         [0.09803922],\n",
       "         [0.10196078]],\n",
       "\n",
       "        [[0.09803922],\n",
       "         [0.10588235],\n",
       "         [0.09019608],\n",
       "         ...,\n",
       "         [0.10980392],\n",
       "         [0.09803922],\n",
       "         [0.13333333]],\n",
       "\n",
       "        [[0.11372549],\n",
       "         [0.11372549],\n",
       "         [0.10588235],\n",
       "         ...,\n",
       "         [0.10588235],\n",
       "         [0.09411765],\n",
       "         [0.10196078]],\n",
       "\n",
       "        ...,\n",
       "\n",
       "        [[0.88627451],\n",
       "         [0.90588235],\n",
       "         [0.94117647],\n",
       "         ...,\n",
       "         [0.90196078],\n",
       "         [0.90980392],\n",
       "         [0.91372549]],\n",
       "\n",
       "        [[0.92156863],\n",
       "         [0.8745098 ],\n",
       "         [0.61960784],\n",
       "         ...,\n",
       "         [0.82745098],\n",
       "         [0.90980392],\n",
       "         [0.89019608]],\n",
       "\n",
       "        [[0.64705882],\n",
       "         [0.45098039],\n",
       "         [0.15294118],\n",
       "         ...,\n",
       "         [0.19607843],\n",
       "         [0.76470588],\n",
       "         [0.93333333]]],\n",
       "\n",
       "\n",
       "       ...,\n",
       "\n",
       "\n",
       "       [[[0.63137255],\n",
       "         [0.5254902 ],\n",
       "         [0.44313725],\n",
       "         ...,\n",
       "         [0.27058824],\n",
       "         [0.21176471],\n",
       "         [0.14509804]],\n",
       "\n",
       "        [[0.61960784],\n",
       "         [0.43529412],\n",
       "         [0.36862745],\n",
       "         ...,\n",
       "         [0.28627451],\n",
       "         [0.21568627],\n",
       "         [0.14901961]],\n",
       "\n",
       "        [[0.54509804],\n",
       "         [0.34117647],\n",
       "         [0.29803922],\n",
       "         ...,\n",
       "         [0.31764706],\n",
       "         [0.22745098],\n",
       "         [0.16078431]],\n",
       "\n",
       "        ...,\n",
       "\n",
       "        [[0.78823529],\n",
       "         [0.78823529],\n",
       "         [0.78823529],\n",
       "         ...,\n",
       "         [0.51372549],\n",
       "         [0.50980392],\n",
       "         [0.49019608]],\n",
       "\n",
       "        [[0.78431373],\n",
       "         [0.78823529],\n",
       "         [0.78823529],\n",
       "         ...,\n",
       "         [0.54117647],\n",
       "         [0.52941176],\n",
       "         [0.50588235]],\n",
       "\n",
       "        [[0.78823529],\n",
       "         [0.79215686],\n",
       "         [0.79607843],\n",
       "         ...,\n",
       "         [0.54509804],\n",
       "         [0.5372549 ],\n",
       "         [0.54117647]]],\n",
       "\n",
       "\n",
       "       [[[0.25490196],\n",
       "         [0.32156863],\n",
       "         [0.32941176],\n",
       "         ...,\n",
       "         [0.33333333],\n",
       "         [0.2745098 ],\n",
       "         [0.22745098]],\n",
       "\n",
       "        [[0.2745098 ],\n",
       "         [0.45490196],\n",
       "         [0.46666667],\n",
       "         ...,\n",
       "         [0.4       ],\n",
       "         [0.33333333],\n",
       "         [0.2627451 ]],\n",
       "\n",
       "        [[0.22745098],\n",
       "         [0.16862745],\n",
       "         [0.29411765],\n",
       "         ...,\n",
       "         [0.45098039],\n",
       "         [0.38039216],\n",
       "         [0.30588235]],\n",
       "\n",
       "        ...,\n",
       "\n",
       "        [[0.01176471],\n",
       "         [0.48235294],\n",
       "         [0.50980392],\n",
       "         ...,\n",
       "         [0.29803922],\n",
       "         [0.30980392],\n",
       "         [0.28627451]],\n",
       "\n",
       "        [[0.00392157],\n",
       "         [0.44313725],\n",
       "         [0.49411765],\n",
       "         ...,\n",
       "         [0.25098039],\n",
       "         [0.2745098 ],\n",
       "         [0.3254902 ]],\n",
       "\n",
       "        [[0.02745098],\n",
       "         [0.43137255],\n",
       "         [0.50196078],\n",
       "         ...,\n",
       "         [0.27058824],\n",
       "         [0.3254902 ],\n",
       "         [0.36078431]]],\n",
       "\n",
       "\n",
       "       [[[0.12156863],\n",
       "         [0.15686275],\n",
       "         [0.19607843],\n",
       "         ...,\n",
       "         [0.50196078],\n",
       "         [0.40392157],\n",
       "         [0.32941176]],\n",
       "\n",
       "        [[0.12941176],\n",
       "         [0.17647059],\n",
       "         [0.20392157],\n",
       "         ...,\n",
       "         [0.55294118],\n",
       "         [0.47058824],\n",
       "         [0.43529412]],\n",
       "\n",
       "        [[0.1372549 ],\n",
       "         [0.18431373],\n",
       "         [0.21568627],\n",
       "         ...,\n",
       "         [0.58039216],\n",
       "         [0.53333333],\n",
       "         [0.50196078]],\n",
       "\n",
       "        ...,\n",
       "\n",
       "        [[0.58039216],\n",
       "         [0.58039216],\n",
       "         [0.57647059],\n",
       "         ...,\n",
       "         [0.56078431],\n",
       "         [0.47058824],\n",
       "         [0.40784314]],\n",
       "\n",
       "        [[0.68235294],\n",
       "         [0.68235294],\n",
       "         [0.64705882],\n",
       "         ...,\n",
       "         [0.57254902],\n",
       "         [0.50196078],\n",
       "         [0.45490196]],\n",
       "\n",
       "        [[0.75686275],\n",
       "         [0.74509804],\n",
       "         [0.71764706],\n",
       "         ...,\n",
       "         [0.68235294],\n",
       "         [0.51764706],\n",
       "         [0.45098039]]]])"
      ]
     },
     "execution_count": 15,
     "metadata": {},
     "output_type": "execute_result"
    }
   ],
   "source": [
    "X = np.array([np.array([int(pixel) / 255 for pixel in data.pixels[i].split(' ')]) for i in range(len(data))])\n",
    "X = X.reshape(23705, 48, 48, 1)\n",
    "print(X.shape)\n",
    "X"
   ]
  },
  {
   "cell_type": "code",
   "execution_count": 16,
   "metadata": {
    "ExecuteTime": {
     "end_time": "2023-03-28T10:11:28.843721Z",
     "start_time": "2023-03-28T10:11:28.682060Z"
    }
   },
   "outputs": [],
   "source": [
    "from sklearn.model_selection import train_test_split\n",
    "X_train, X_test, y_train, y_test = train_test_split(X, y, train_size=0.7)"
   ]
  },
  {
   "cell_type": "markdown",
   "metadata": {
    "id": "3bSHDYC8OlrL"
   },
   "source": [
    "### 1.3 Modeling the age of a face"
   ]
  },
  {
   "cell_type": "code",
   "execution_count": 17,
   "metadata": {
    "ExecuteTime": {
     "end_time": "2023-03-28T10:11:28.846455Z",
     "start_time": "2023-03-28T10:11:28.844716Z"
    }
   },
   "outputs": [
    {
     "name": "stdout",
     "output_type": "stream",
     "text": [
      "(16593, 48, 48, 1)\n",
      "(7112, 48, 48, 1)\n"
     ]
    }
   ],
   "source": [
    "print(X_train.shape)\n",
    "print(X_test.shape)"
   ]
  },
  {
   "cell_type": "code",
   "execution_count": 18,
   "metadata": {
    "ExecuteTime": {
     "end_time": "2023-03-28T10:11:28.849343Z",
     "start_time": "2023-03-28T10:11:28.847391Z"
    }
   },
   "outputs": [
    {
     "name": "stdout",
     "output_type": "stream",
     "text": [
      "(16593,)\n",
      "[55  3 29 ... 25 26 54]\n"
     ]
    }
   ],
   "source": [
    "print(y_train.shape)\n",
    "print(y_train)"
   ]
  },
  {
   "cell_type": "markdown",
   "metadata": {},
   "source": [
    "❓ **Before training a complex model, evaluate your baseline score**\n",
    "- We will use the mean absolute error in this challenge\n",
    "- Compute the baseline score on your test set in the \"naive\" case where you always predict mean age\n",
    "- Store the result under `score_baseline`"
   ]
  },
  {
   "cell_type": "code",
   "execution_count": 19,
   "metadata": {
    "ExecuteTime": {
     "end_time": "2023-03-28T10:11:28.853290Z",
     "start_time": "2023-03-28T10:11:28.850602Z"
    },
    "tags": [
     "challengify"
    ]
   },
   "outputs": [
    {
     "data": {
      "text/plain": [
       "33.02123172103487"
      ]
     },
     "execution_count": 19,
     "metadata": {},
     "output_type": "execute_result"
    }
   ],
   "source": [
    "mean_age = y_test.mean()\n",
    "mean_age"
   ]
  },
  {
   "cell_type": "code",
   "execution_count": 20,
   "metadata": {
    "ExecuteTime": {
     "end_time": "2023-03-28T10:11:28.856875Z",
     "start_time": "2023-03-28T10:11:28.854218Z"
    }
   },
   "outputs": [
    {
     "data": {
      "text/plain": [
       "15.411346623713653"
      ]
     },
     "execution_count": 20,
     "metadata": {},
     "output_type": "execute_result"
    }
   ],
   "source": [
    "score_baseline = (abs(y_test-mean_age)).sum()/len(y_test)\n",
    "score_baseline"
   ]
  },
  {
   "cell_type": "markdown",
   "metadata": {},
   "source": [
    "❓ **Build and fit a convolutional neural network**\n",
    "\n",
    "- Name it `model`\n",
    "- Store output of `.fit()` in a variable `history`\n",
    "- Do not use transfer learning\n",
    "- Make sure your model does not overfit with appropriate control techniques\n",
    "\n",
    "💡 Manage wisely your training time. You should obtain significantly better performance than the baseline in less than 5 minutes with average processor and no graphic cards. "
   ]
  },
  {
   "cell_type": "code",
   "execution_count": 21,
   "metadata": {
    "ExecuteTime": {
     "end_time": "2023-03-28T10:11:31.594159Z",
     "start_time": "2023-03-28T10:11:28.857808Z"
    },
    "colab": {
     "base_uri": "https://localhost:8080/"
    },
    "executionInfo": {
     "elapsed": 427,
     "status": "ok",
     "timestamp": 1615231554099,
     "user": {
      "displayName": "Bruno Lajoie",
      "photoUrl": "https://lh3.googleusercontent.com/a-/AOh14Gg0dl6gThG8gOPbCvHbgt62zQnsi8cgbQ7C5HkD_Cg=s64",
      "userId": "15793030209206844069"
     },
     "user_tz": -60
    },
    "id": "o-vaYNoXTQPS",
    "outputId": "4fe2b570-77a5-4f38-daa7-ff1f5f1fac02",
    "tags": [
     "challengify"
    ]
   },
   "outputs": [],
   "source": [
    "from tensorflow.keras.models import Sequential\n",
    "from tensorflow.keras.layers import Conv2D, MaxPooling2D, Flatten, Dense\n",
    "model = Sequential()\n",
    "model.add(Conv2D(16, kernel_size=(3, 3), \n",
    "                 padding='same',\n",
    "                 strides = (1,1),\n",
    "                 input_shape=(48, 48, 1), \n",
    "                 activation='relu'))\n",
    "model.add(Conv2D(32, kernel_size=(4, 4),\n",
    "                 activation=\"relu\",\n",
    "                 padding='same'))\n",
    "model.add(MaxPooling2D(pool_size=(3, 3)))\n",
    "model.add(Flatten())\n",
    "model.add(Dense(40, activation='relu'))\n",
    "model.add(Dense(1, activation='linear'))"
   ]
  },
  {
   "cell_type": "code",
   "execution_count": 22,
   "metadata": {
    "ExecuteTime": {
     "end_time": "2023-03-28T10:11:31.600432Z",
     "start_time": "2023-03-28T10:11:31.595104Z"
    }
   },
   "outputs": [
    {
     "name": "stdout",
     "output_type": "stream",
     "text": [
      "Model: \"sequential\"\n",
      "_________________________________________________________________\n",
      " Layer (type)                Output Shape              Param #   \n",
      "=================================================================\n",
      " conv2d (Conv2D)             (None, 48, 48, 16)        160       \n",
      "                                                                 \n",
      " conv2d_1 (Conv2D)           (None, 48, 48, 32)        8224      \n",
      "                                                                 \n",
      " max_pooling2d (MaxPooling2D  (None, 16, 16, 32)       0         \n",
      " )                                                               \n",
      "                                                                 \n",
      " flatten (Flatten)           (None, 8192)              0         \n",
      "                                                                 \n",
      " dense (Dense)               (None, 40)                327720    \n",
      "                                                                 \n",
      " dense_1 (Dense)             (None, 1)                 41        \n",
      "                                                                 \n",
      "=================================================================\n",
      "Total params: 336,145\n",
      "Trainable params: 336,145\n",
      "Non-trainable params: 0\n",
      "_________________________________________________________________\n"
     ]
    }
   ],
   "source": [
    "model.summary()"
   ]
  },
  {
   "cell_type": "code",
   "execution_count": 23,
   "metadata": {
    "ExecuteTime": {
     "end_time": "2023-03-28T10:11:31.608549Z",
     "start_time": "2023-03-28T10:11:31.601274Z"
    }
   },
   "outputs": [],
   "source": [
    "model.compile(loss='mse', optimizer='adam', metrics='MAE')"
   ]
  },
  {
   "cell_type": "code",
   "execution_count": 24,
   "metadata": {
    "ExecuteTime": {
     "end_time": "2023-03-28T10:17:46.871133Z",
     "start_time": "2023-03-28T10:11:31.609517Z"
    }
   },
   "outputs": [
    {
     "name": "stdout",
     "output_type": "stream",
     "text": [
      "Epoch 1/200\n"
     ]
    },
    {
     "name": "stderr",
     "output_type": "stream",
     "text": [
      "2023-03-28 12:11:31.674341: W tensorflow/core/platform/profile_utils/cpu_utils.cc:128] Failed to get CPU frequency: 0 Hz\n"
     ]
    },
    {
     "name": "stdout",
     "output_type": "stream",
     "text": [
      "1452/1452 [==============================] - 15s 10ms/step - loss: 290.4446 - MAE: 12.9707 - val_loss: 235.9621 - val_MAE: 11.4886\n",
      "Epoch 2/200\n",
      "1452/1452 [==============================] - 15s 10ms/step - loss: 180.0309 - MAE: 10.1497 - val_loss: 153.5447 - val_MAE: 9.2942\n",
      "Epoch 3/200\n",
      "1452/1452 [==============================] - 17s 12ms/step - loss: 138.6716 - MAE: 8.7942 - val_loss: 145.3091 - val_MAE: 8.7520\n",
      "Epoch 4/200\n",
      "1452/1452 [==============================] - 16s 11ms/step - loss: 116.6329 - MAE: 7.9844 - val_loss: 121.9841 - val_MAE: 8.3267\n",
      "Epoch 5/200\n",
      "1452/1452 [==============================] - 16s 11ms/step - loss: 101.2270 - MAE: 7.4466 - val_loss: 126.7135 - val_MAE: 8.0909\n",
      "Epoch 6/200\n",
      "1452/1452 [==============================] - 16s 11ms/step - loss: 89.9165 - MAE: 7.0289 - val_loss: 103.2619 - val_MAE: 7.4440\n",
      "Epoch 7/200\n",
      "1452/1452 [==============================] - 16s 11ms/step - loss: 81.1003 - MAE: 6.6911 - val_loss: 102.9837 - val_MAE: 7.4499\n",
      "Epoch 8/200\n",
      "1452/1452 [==============================] - 16s 11ms/step - loss: 74.9149 - MAE: 6.4365 - val_loss: 104.9705 - val_MAE: 7.4611\n",
      "Epoch 9/200\n",
      "1452/1452 [==============================] - 17s 12ms/step - loss: 67.0744 - MAE: 6.1115 - val_loss: 101.9705 - val_MAE: 7.3163\n",
      "Epoch 10/200\n",
      "1452/1452 [==============================] - 17s 12ms/step - loss: 61.5254 - MAE: 5.8805 - val_loss: 100.1248 - val_MAE: 7.5733\n",
      "Epoch 11/200\n",
      "1452/1452 [==============================] - 17s 11ms/step - loss: 55.3373 - MAE: 5.5968 - val_loss: 100.3671 - val_MAE: 7.3113\n",
      "Epoch 12/200\n",
      "1452/1452 [==============================] - 16s 11ms/step - loss: 51.0236 - MAE: 5.3829 - val_loss: 99.4620 - val_MAE: 7.1789\n",
      "Epoch 13/200\n",
      "1452/1452 [==============================] - 16s 11ms/step - loss: 45.9275 - MAE: 5.1102 - val_loss: 95.8797 - val_MAE: 7.1455\n",
      "Epoch 14/200\n",
      "1452/1452 [==============================] - 17s 12ms/step - loss: 40.9854 - MAE: 4.8449 - val_loss: 105.6513 - val_MAE: 7.4548\n",
      "Epoch 15/200\n",
      "1452/1452 [==============================] - 16s 11ms/step - loss: 37.3813 - MAE: 4.6523 - val_loss: 103.2219 - val_MAE: 7.3572\n",
      "Epoch 16/200\n",
      "1452/1452 [==============================] - 16s 11ms/step - loss: 33.9012 - MAE: 4.4204 - val_loss: 101.7993 - val_MAE: 7.2826\n",
      "Epoch 17/200\n",
      "1452/1452 [==============================] - 16s 11ms/step - loss: 30.7250 - MAE: 4.2204 - val_loss: 103.7106 - val_MAE: 7.4608\n",
      "Epoch 18/200\n",
      "1452/1452 [==============================] - 17s 11ms/step - loss: 29.0059 - MAE: 4.0882 - val_loss: 119.8050 - val_MAE: 8.1097\n",
      "Epoch 19/200\n",
      "1452/1452 [==============================] - 17s 11ms/step - loss: 26.2506 - MAE: 3.8804 - val_loss: 105.5462 - val_MAE: 7.4031\n",
      "Epoch 20/200\n",
      "1452/1452 [==============================] - 16s 11ms/step - loss: 25.1470 - MAE: 3.8110 - val_loss: 111.6509 - val_MAE: 7.8197\n",
      "Epoch 21/200\n",
      "1452/1452 [==============================] - 16s 11ms/step - loss: 22.3862 - MAE: 3.6142 - val_loss: 109.4769 - val_MAE: 7.5121\n",
      "Epoch 22/200\n",
      "1452/1452 [==============================] - 16s 11ms/step - loss: 21.1828 - MAE: 3.4987 - val_loss: 119.1158 - val_MAE: 8.0871\n",
      "Epoch 23/200\n",
      "1452/1452 [==============================] - 16s 11ms/step - loss: 20.4147 - MAE: 3.4479 - val_loss: 107.9328 - val_MAE: 7.5595\n"
     ]
    }
   ],
   "source": [
    "from tensorflow.keras.callbacks import EarlyStopping \n",
    "es = EarlyStopping(patience=10, restore_best_weights=True)\n",
    "history = model.fit(X_train, y_train, \n",
    "                    epochs=200,\n",
    "                    batch_size=8,\n",
    "                    validation_split=0.3,\n",
    "                    callbacks=[es],\n",
    "                    verbose=1)"
   ]
  },
  {
   "cell_type": "markdown",
   "metadata": {},
   "source": [
    "❓ **Plot your training and validation MAE at each epoch using the cell below**"
   ]
  },
  {
   "cell_type": "code",
   "execution_count": 25,
   "metadata": {
    "ExecuteTime": {
     "end_time": "2023-03-28T10:17:47.083552Z",
     "start_time": "2023-03-28T10:17:46.873087Z"
    }
   },
   "outputs": [
    {
     "data": {
      "image/png": "[encoded data removed]",
      "text/plain": [
       "<Figure size 1300x500 with 2 Axes>"
      ]
     },
     "metadata": {},
     "output_type": "display_data"
    }
   ],
   "source": [
    "# Plot below your train/val loss history\n",
    "fig, ax = plt.subplots(1,2, figsize=(13,5))\n",
    "ax[0].plot(history.history['loss'])\n",
    "ax[0].plot(history.history['val_loss'])\n",
    "ax[0].set_title('Model loss')\n",
    "ax[0].set_ylabel('Loss')\n",
    "ax[0].set_xlabel('Epoch')\n",
    "ax[0].legend(['Train', 'Val'], loc='best')\n",
    "ax[1].plot(history.history['MAE'])\n",
    "ax[1].plot(history.history['val_MAE'])\n",
    "ax[1].set_title('Model MAE')\n",
    "ax[1].set_ylabel('MAE')\n",
    "ax[1].set_xlabel('Epoch')\n",
    "ax[1].legend(['Train', 'Val'], loc='best')\n",
    "# Run also this code to save figure as jpg in path below (it's your job to ensure it works)\n",
    "fig.savefig(\"history_cnn.png\")"
   ]
  },
  {
   "cell_type": "markdown",
   "metadata": {},
   "source": [
    "❓ **Evaluate your performances on test set**\n",
    "- Store your test score as `score_test`"
   ]
  },
  {
   "cell_type": "code",
   "execution_count": 26,
   "metadata": {
    "ExecuteTime": {
     "end_time": "2023-03-28T10:17:48.982191Z",
     "start_time": "2023-03-28T10:17:47.085775Z"
    },
    "colab": {
     "base_uri": "https://localhost:8080/"
    },
    "executionInfo": {
     "elapsed": 1032,
     "status": "ok",
     "timestamp": 1615231968574,
     "user": {
      "displayName": "Bruno Lajoie",
      "photoUrl": "https://lh3.googleusercontent.com/a-/AOh14Gg0dl6gThG8gOPbCvHbgt62zQnsi8cgbQ7C5HkD_Cg=s64",
      "userId": "15793030209206844069"
     },
     "user_tz": -60
    },
    "id": "RQMpEc4ITdne",
    "outputId": "9a0a5643-6652-4a68-aa86-cd671733ca17",
    "scrolled": true,
    "tags": [
     "challengify"
    ]
   },
   "outputs": [
    {
     "name": "stdout",
     "output_type": "stream",
     "text": [
      "223/223 [==============================] - 2s 8ms/step - loss: 90.5266 - MAE: 6.8612\n"
     ]
    },
    {
     "data": {
      "text/plain": [
       "6.861222267150879"
      ]
     },
     "execution_count": 26,
     "metadata": {},
     "output_type": "execute_result"
    }
   ],
   "source": [
    "score_test = model.evaluate(X_test, y_test)[1]\n",
    "score_test"
   ]
  },
  {
   "cell_type": "code",
   "execution_count": 27,
   "metadata": {
    "ExecuteTime": {
     "end_time": "2023-03-28T10:17:48.991882Z",
     "start_time": "2023-03-28T10:17:48.989085Z"
    }
   },
   "outputs": [],
   "source": [
    "def image_draw(i):\n",
    "    return plt.imshow(X_test[i]*255, cmap='gray')\n",
    "def image_age(i):\n",
    "    return y_test[i]\n",
    "def image_predict(i):\n",
    "    return model.predict(X_test)[i][0]\n",
    "def image_test(i):\n",
    "    image_draw(i)\n",
    "    print(f'Age réel : {image_age(i)}')\n",
    "    print(f'Age prédit : {image_predict(i)}')"
   ]
  },
  {
   "cell_type": "code",
   "execution_count": 28,
   "metadata": {
    "ExecuteTime": {
     "end_time": "2023-03-28T10:17:50.966264Z",
     "start_time": "2023-03-28T10:17:48.992908Z"
    }
   },
   "outputs": [
    {
     "name": "stdout",
     "output_type": "stream",
     "text": [
      "Age réel : 26\n",
      "223/223 [==============================] - 2s 8ms/step\n",
      "Age prédit : 28.241243362426758\n"
     ]
    },
    {
     "data": {
      "image/png": "[encoded data removed]",
      "text/plain": [
       "<Figure size 640x480 with 1 Axes>"
      ]
     },
     "metadata": {},
     "output_type": "display_data"
    }
   ],
   "source": [
    "n = random.randint(0, len(y_test))\n",
    "image_test(n)"
   ]
  },
  {
   "cell_type": "code",
   "execution_count": 29,
   "metadata": {
    "ExecuteTime": {
     "end_time": "2023-03-28T10:17:50.970060Z",
     "start_time": "2023-03-28T10:17:50.967282Z"
    }
   },
   "outputs": [],
   "source": [
    "X0 = np.load('data/photos_normees/Louis59_np.npy')\n",
    "y0 = 59"
   ]
  },
  {
   "cell_type": "code",
   "execution_count": 30,
   "metadata": {
    "ExecuteTime": {
     "end_time": "2023-03-28T10:17:51.069776Z",
     "start_time": "2023-03-28T10:17:50.970907Z"
    }
   },
   "outputs": [
    {
     "name": "stdout",
     "output_type": "stream",
     "text": [
      "Age réel : 59\n",
      "1/1 [==============================] - 0s 9ms/step\n",
      "Age prédit : 43.48662567138672\n"
     ]
    },
    {
     "data": {
      "image/png": "[encoded data removed]",
      "text/plain": [
       "<Figure size 640x480 with 1 Axes>"
      ]
     },
     "metadata": {},
     "output_type": "display_data"
    }
   ],
   "source": [
    "X1 = X0 / 255\n",
    "X1 = X1.reshape(1,48,48,1)\n",
    "plt.imshow(X0, cmap=\"gray\")\n",
    "print(f'Age réel : {y0}')\n",
    "print(f'Age prédit : {model.predict(X1)[0][0]}')"
   ]
  },
  {
   "cell_type": "code",
   "execution_count": null,
   "metadata": {},
   "outputs": [],
   "source": []
  }
 ],
 "metadata": {
  "accelerator": "GPU",
  "colab": {
   "authorship_tag": "ABX9TyMOYn4GJAg9EKtu1bGhcoI1",
   "collapsed_sections": [],
   "name": "certification_DL_images",
   "provenance": [],
   "toc_visible": true
  },
  "kernelspec": {
   "display_name": "Python 3 (ipykernel)",
   "language": "python",
   "name": "python3"
  },
  "language_info": {
   "codemirror_mode": {
    "name": "ipython",
    "version": 3
   },
   "file_extension": ".py",
   "mimetype": "text/x-python",
   "name": "python",
   "nbconvert_exporter": "python",
   "pygments_lexer": "ipython3",
   "version": "3.10.6"
  },
  "toc": {
   "base_numbering": 1,
   "nav_menu": {},
   "number_sections": false,
   "sideBar": true,
   "skip_h1_title": false,
   "title_cell": "Table of Contents",
   "title_sidebar": "Contents",
   "toc_cell": false,
   "toc_position": {
    "height": "calc(100% - 180px)",
    "left": "10px",
    "top": "150px",
    "width": "165px"
   },
   "toc_section_display": true,
   "toc_window_display": false
  },
  "varInspector": {
   "cols": {
    "lenName": 16,
    "lenType": 16,
    "lenVar": 40
   },
   "kernels_config": {
    "python": {
     "delete_cmd_postfix": "",
     "delete_cmd_prefix": "del ",
     "library": "var_list.py",
     "varRefreshCmd": "print(var_dic_list())"
    },
    "r": {
     "delete_cmd_postfix": ") ",
     "delete_cmd_prefix": "rm(",
     "library": "var_list.r",
     "varRefreshCmd": "cat(var_dic_list()) "
    }
   },
   "types_to_exclude": [
    "module",
    "function",
    "builtin_function_or_method",
    "instance",
    "_Feature"
   ],
   "window_display": false
  }
 },
 "nbformat": 4,
 "nbformat_minor": 1
}
